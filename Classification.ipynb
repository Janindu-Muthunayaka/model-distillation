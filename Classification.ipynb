{
  "nbformat": 4,
  "nbformat_minor": 0,
  "metadata": {
    "colab": {
      "provenance": [],
      "authorship_tag": "ABX9TyPsphzvAxNtMdso5vsz5QwP",
      "include_colab_link": true
    },
    "kernelspec": {
      "name": "python3",
      "display_name": "Python 3"
    },
    "language_info": {
      "name": "python"
    }
  },
  "cells": [
    {
      "cell_type": "markdown",
      "metadata": {
        "id": "view-in-github",
        "colab_type": "text"
      },
      "source": [
        "<a href=\"https://colab.research.google.com/github/Janindu-Muthunayaka/model-distillation/blob/main/Classification.ipynb\" target=\"_parent\"><img src=\"https://colab.research.google.com/assets/colab-badge.svg\" alt=\"Open In Colab\"/></a>"
      ]
    },
    {
      "cell_type": "markdown",
      "source": [
        "Packages"
      ],
      "metadata": {
        "id": "kJimzcW_ebr6"
      }
    },
    {
      "cell_type": "markdown",
      "source": [
        "# Installments"
      ],
      "metadata": {
        "id": "PLiLPYRsg9O2"
      }
    },
    {
      "cell_type": "code",
      "execution_count": 1,
      "metadata": {
        "id": "biR16B5iIDg8",
        "colab": {
          "base_uri": "https://localhost:8080/"
        },
        "outputId": "ffde56c7-9669-4c14-d90e-978d58c66594"
      },
      "outputs": [
        {
          "output_type": "stream",
          "name": "stdout",
          "text": [
            "Requirement already satisfied: numpy in /usr/local/lib/python3.12/dist-packages (2.0.2)\n",
            "Requirement already satisfied: pandas in /usr/local/lib/python3.12/dist-packages (2.2.2)\n",
            "Requirement already satisfied: scikit-learn in /usr/local/lib/python3.12/dist-packages (1.6.1)\n",
            "Requirement already satisfied: torch in /usr/local/lib/python3.12/dist-packages (2.8.0+cu126)\n",
            "Requirement already satisfied: python-dateutil>=2.8.2 in /usr/local/lib/python3.12/dist-packages (from pandas) (2.9.0.post0)\n",
            "Requirement already satisfied: pytz>=2020.1 in /usr/local/lib/python3.12/dist-packages (from pandas) (2025.2)\n",
            "Requirement already satisfied: tzdata>=2022.7 in /usr/local/lib/python3.12/dist-packages (from pandas) (2025.2)\n",
            "Requirement already satisfied: scipy>=1.6.0 in /usr/local/lib/python3.12/dist-packages (from scikit-learn) (1.16.1)\n",
            "Requirement already satisfied: joblib>=1.2.0 in /usr/local/lib/python3.12/dist-packages (from scikit-learn) (1.5.2)\n",
            "Requirement already satisfied: threadpoolctl>=3.1.0 in /usr/local/lib/python3.12/dist-packages (from scikit-learn) (3.6.0)\n",
            "Requirement already satisfied: filelock in /usr/local/lib/python3.12/dist-packages (from torch) (3.19.1)\n",
            "Requirement already satisfied: typing-extensions>=4.10.0 in /usr/local/lib/python3.12/dist-packages (from torch) (4.15.0)\n",
            "Requirement already satisfied: setuptools in /usr/local/lib/python3.12/dist-packages (from torch) (75.2.0)\n",
            "Requirement already satisfied: sympy>=1.13.3 in /usr/local/lib/python3.12/dist-packages (from torch) (1.13.3)\n",
            "Requirement already satisfied: networkx in /usr/local/lib/python3.12/dist-packages (from torch) (3.5)\n",
            "Requirement already satisfied: jinja2 in /usr/local/lib/python3.12/dist-packages (from torch) (3.1.6)\n",
            "Requirement already satisfied: fsspec in /usr/local/lib/python3.12/dist-packages (from torch) (2025.3.0)\n",
            "Requirement already satisfied: nvidia-cuda-nvrtc-cu12==12.6.77 in /usr/local/lib/python3.12/dist-packages (from torch) (12.6.77)\n",
            "Requirement already satisfied: nvidia-cuda-runtime-cu12==12.6.77 in /usr/local/lib/python3.12/dist-packages (from torch) (12.6.77)\n",
            "Requirement already satisfied: nvidia-cuda-cupti-cu12==12.6.80 in /usr/local/lib/python3.12/dist-packages (from torch) (12.6.80)\n",
            "Requirement already satisfied: nvidia-cudnn-cu12==9.10.2.21 in /usr/local/lib/python3.12/dist-packages (from torch) (9.10.2.21)\n",
            "Requirement already satisfied: nvidia-cublas-cu12==12.6.4.1 in /usr/local/lib/python3.12/dist-packages (from torch) (12.6.4.1)\n",
            "Requirement already satisfied: nvidia-cufft-cu12==11.3.0.4 in /usr/local/lib/python3.12/dist-packages (from torch) (11.3.0.4)\n",
            "Requirement already satisfied: nvidia-curand-cu12==10.3.7.77 in /usr/local/lib/python3.12/dist-packages (from torch) (10.3.7.77)\n",
            "Requirement already satisfied: nvidia-cusolver-cu12==11.7.1.2 in /usr/local/lib/python3.12/dist-packages (from torch) (11.7.1.2)\n",
            "Requirement already satisfied: nvidia-cusparse-cu12==12.5.4.2 in /usr/local/lib/python3.12/dist-packages (from torch) (12.5.4.2)\n",
            "Requirement already satisfied: nvidia-cusparselt-cu12==0.7.1 in /usr/local/lib/python3.12/dist-packages (from torch) (0.7.1)\n",
            "Requirement already satisfied: nvidia-nccl-cu12==2.27.3 in /usr/local/lib/python3.12/dist-packages (from torch) (2.27.3)\n",
            "Requirement already satisfied: nvidia-nvtx-cu12==12.6.77 in /usr/local/lib/python3.12/dist-packages (from torch) (12.6.77)\n",
            "Requirement already satisfied: nvidia-nvjitlink-cu12==12.6.85 in /usr/local/lib/python3.12/dist-packages (from torch) (12.6.85)\n",
            "Requirement already satisfied: nvidia-cufile-cu12==1.11.1.6 in /usr/local/lib/python3.12/dist-packages (from torch) (1.11.1.6)\n",
            "Requirement already satisfied: triton==3.4.0 in /usr/local/lib/python3.12/dist-packages (from torch) (3.4.0)\n",
            "Requirement already satisfied: six>=1.5 in /usr/local/lib/python3.12/dist-packages (from python-dateutil>=2.8.2->pandas) (1.17.0)\n",
            "Requirement already satisfied: mpmath<1.4,>=1.1.0 in /usr/local/lib/python3.12/dist-packages (from sympy>=1.13.3->torch) (1.3.0)\n",
            "Requirement already satisfied: MarkupSafe>=2.0 in /usr/local/lib/python3.12/dist-packages (from jinja2->torch) (3.0.2)\n"
          ]
        }
      ],
      "source": [
        "!pip install numpy pandas scikit-learn torch\n"
      ]
    },
    {
      "cell_type": "code",
      "source": [
        "import torch\n",
        "import numpy as np\n",
        "import random\n",
        "\n",
        "seed = 42\n",
        "random.seed(seed)\n",
        "np.random.seed(seed)\n",
        "torch.manual_seed(seed)\n",
        "\n",
        "# If using GPU\n",
        "torch.cuda.manual_seed(seed)\n",
        "torch.backends.cudnn.deterministic = True\n",
        "torch.backends.cudnn.benchmark = False\n",
        "\n"
      ],
      "metadata": {
        "id": "ep8Ycjmscg6x"
      },
      "execution_count": 21,
      "outputs": []
    },
    {
      "cell_type": "markdown",
      "source": [
        "# Data Preparation"
      ],
      "metadata": {
        "id": "WhG6ZZhPdc5h"
      }
    },
    {
      "cell_type": "code",
      "source": [
        "epochs=10\n"
      ],
      "metadata": {
        "id": "28cMtIVhdPlu"
      },
      "execution_count": 2,
      "outputs": []
    },
    {
      "cell_type": "markdown",
      "source": [
        "DataSets (Wine for Classification)"
      ],
      "metadata": {
        "id": "tW760odyegm7"
      }
    },
    {
      "cell_type": "code",
      "source": [
        "from sklearn.datasets import load_wine,fetch_california_housing\n",
        "\n",
        "#classification  - Wine for type of wine (0,1,2)\n",
        "wine=load_wine(as_frame=True)\n",
        "X_Wine=wine.data\n",
        "Y_Wine=wine.target\n",
        "\n"
      ],
      "metadata": {
        "id": "shV6ohQYeyBP"
      },
      "execution_count": 3,
      "outputs": []
    },
    {
      "cell_type": "markdown",
      "source": [
        "# Data Preparation for PyTorch"
      ],
      "metadata": {
        "id": "fqgZxCMcn3pd"
      }
    },
    {
      "cell_type": "code",
      "source": [
        "import torch\n",
        "from sklearn.model_selection import train_test_split\n",
        "from sklearn.preprocessing import StandardScaler\n",
        "from torch.utils.data import TensorDataset, DataLoader\n",
        "\n",
        "#split\n",
        "xTrain,xTest,yTrain,yTest=train_test_split(X_Wine,Y_Wine,test_size=0.2,random_state=42)\n",
        "\n",
        "#scaling\n",
        "scaler=StandardScaler()\n",
        "xTrain=scaler.fit_transform(xTrain)\n",
        "xTest=scaler.transform(xTest)\n",
        "\n",
        "#convert to Pytorch tensors\n",
        "xTrain=torch.tensor(xTrain,dtype=torch.float32)\n",
        "yTrain=torch.tensor(yTrain.values,dtype=torch.long)\n",
        "xTest=torch.tensor(xTest,dtype=torch.float32)\n",
        "yTest=torch.tensor(yTest.values,dtype=torch.long)\n",
        "\n",
        "# Create TensorDatasets\n",
        "train_dataset = TensorDataset(xTrain, yTrain)\n",
        "test_dataset = TensorDataset(xTest, yTest)\n",
        "\n",
        "# Create DataLoaders\n",
        "batch_size = 32\n",
        "train_loader = DataLoader(\n",
        "    train_dataset,\n",
        "    batch_size=batch_size,\n",
        "    shuffle=True,\n",
        "    generator=torch.Generator().manual_seed(seed) # Use the defined seed\n",
        ")\n",
        "\n",
        "test_loader = DataLoader(\n",
        "    test_dataset,\n",
        "    batch_size=batch_size,\n",
        "    shuffle=False # No need to shuffle test data\n",
        ")"
      ],
      "metadata": {
        "id": "jJ6jIDXnob_I"
      },
      "execution_count": 22,
      "outputs": []
    },
    {
      "cell_type": "markdown",
      "source": [
        "# Teacher MLP Creation"
      ],
      "metadata": {
        "id": "mFCUti0NTynS"
      }
    },
    {
      "cell_type": "markdown",
      "source": [
        "Going to create a fresh teacher MLP"
      ],
      "metadata": {
        "id": "m8nVZxjRhc0t"
      }
    },
    {
      "cell_type": "code",
      "source": [
        "import torch\n",
        "import torch.nn as nn\n",
        "import torch.nn.functional as F"
      ],
      "metadata": {
        "id": "wJLLM0WHhsa3"
      },
      "execution_count": 5,
      "outputs": []
    },
    {
      "cell_type": "code",
      "source": [
        "class wineTeacher(nn.Module):\n",
        "  def __init__(self):\n",
        "    super(wineTeacher,self).__init__()\n",
        "    self.fc1=nn.Linear(13,64)\n",
        "    self.fc2=nn.Linear(64,32)\n",
        "    self.fc3=nn.Linear(32,16)\n",
        "    self.fc4=nn.Linear(16,8)\n",
        "    self.fc5=nn.Linear(8,3)\n",
        "\n",
        "  def forward(self,x):\n",
        "    x=F.relu(self.fc1(x))\n",
        "    x=F.relu(self.fc2(x))\n",
        "    x=F.relu(self.fc3(x))\n",
        "    x=F.relu(self.fc4(x))\n",
        "    x=self.fc5(x)\n",
        "    return x"
      ],
      "metadata": {
        "id": "pE7d-z0iiFj8"
      },
      "execution_count": 6,
      "outputs": []
    },
    {
      "cell_type": "markdown",
      "source": [
        "#Student MLP Creation\n"
      ],
      "metadata": {
        "id": "vkUPzj8nj_Li"
      }
    },
    {
      "cell_type": "markdown",
      "source": [
        "Going to Create fresh Student MLP"
      ],
      "metadata": {
        "id": "Y1dNfyOEkUMl"
      }
    },
    {
      "cell_type": "code",
      "source": [
        "class wineStudent(nn.Module):\n",
        "  def __init__(self):\n",
        "    super(wineStudent,self).__init__()\n",
        "    self.fc1=nn.Linear(13,16)\n",
        "    self.fc2=nn.Linear(16,3)\n",
        "\n",
        "  def forward(self,x):\n",
        "    x=F.relu(self.fc1(x))\n",
        "    x=self.fc2(x)\n",
        "    return x"
      ],
      "metadata": {
        "id": "mIzFcNbXkXuS"
      },
      "execution_count": 7,
      "outputs": []
    },
    {
      "cell_type": "markdown",
      "source": [
        "# Training Teacher"
      ],
      "metadata": {
        "id": "4QymBk_g5S16"
      }
    },
    {
      "cell_type": "markdown",
      "source": [
        "Training Loop\n"
      ],
      "metadata": {
        "id": "H2B2etf62JrI"
      }
    },
    {
      "cell_type": "code",
      "source": [
        "import torch.optim as optim\n",
        "\n",
        "teacher = wineTeacher()  # teacher model\n",
        "criterion = nn.CrossEntropyLoss()  # classification loss\n",
        "optimizer = optim.Adam(teacher.parameters(), lr=0.001)\n",
        "#epochs = already declare\n",
        "\n",
        "for epoch in range(epochs):\n",
        "    teacher.train()\n",
        "    optimizer.zero_grad()\n",
        "    outputs = teacher(xTrain)\n",
        "    loss = criterion(outputs, yTrain)\n",
        "    loss.backward()\n",
        "    optimizer.step()\n",
        "\n",
        "    if (epoch+1) % 10 == 0:#print only every 10 eopich for cleaness\n",
        "        print(f'Epoch [{epoch+1}/{epochs}], Loss: {loss.item():.4f}')\n"
      ],
      "metadata": {
        "colab": {
          "base_uri": "https://localhost:8080/"
        },
        "id": "mpgYt_L72Oma",
        "outputId": "6ce693e9-895c-4334-a40d-50afeca9048f"
      },
      "execution_count": 8,
      "outputs": [
        {
          "output_type": "stream",
          "name": "stdout",
          "text": [
            "Epoch [10/10], Loss: 1.0984\n"
          ]
        }
      ]
    },
    {
      "cell_type": "markdown",
      "source": [
        "# Knowledge Distillation function"
      ],
      "metadata": {
        "id": "w0SBNiGNT-KF"
      }
    },
    {
      "cell_type": "markdown",
      "source": [
        "Since KD has a Hard loss (Real Label) and Soft Loss (Teachers Predictions)"
      ],
      "metadata": {
        "id": "_fJwwgB1UHio"
      }
    },
    {
      "cell_type": "code",
      "source": [
        "def distillation_loss(student_logits, teacher_logits, labels, T=2.0, alpha=0.5):\n",
        "    # Hard loss: student vs true labels\n",
        "    hard_loss = F.cross_entropy(student_logits, labels)\n",
        "\n",
        "    # Soft loss: student vs teacher (using softmax with temperature)\n",
        "    soft_student = F.log_softmax(student_logits / T, dim=1)\n",
        "    soft_teacher = F.softmax(teacher_logits / T, dim=1)\n",
        "    soft_loss = F.kl_div(soft_student, soft_teacher, reduction=\"batchmean\") * (T * T)\n",
        "\n",
        "    # Weighted sum\n",
        "    return alpha * hard_loss + (1 - alpha) * soft_loss\n"
      ],
      "metadata": {
        "id": "l0wfKxboUYAK"
      },
      "execution_count": 9,
      "outputs": []
    },
    {
      "cell_type": "markdown",
      "source": [
        "#Training Student"
      ],
      "metadata": {
        "id": "2L2vtNBLVCVj"
      }
    },
    {
      "cell_type": "code",
      "source": [
        "student = wineStudent()\n",
        "optimizer_s = optim.Adam(student.parameters(), lr=0.001)\n",
        "\n",
        "#epochs = already declare\n",
        "for epoch in range(epochs):\n",
        "    student.train()\n",
        "    optimizer_s.zero_grad()\n",
        "\n",
        "    # Teacher predictions (fixed, no gradients)\n",
        "    with torch.no_grad():\n",
        "        teacher_outputs = teacher(xTrain)\n",
        "\n",
        "    # Student predictions\n",
        "    student_outputs = student(xTrain)\n",
        "\n",
        "    # Distillation loss\n",
        "    loss = distillation_loss(student_outputs, teacher_outputs, yTrain, T=2.0, alpha=0.5)\n",
        "\n",
        "    loss.backward()\n",
        "    optimizer_s.step()\n",
        "\n",
        "    if (epoch+1) % 10 == 0:\n",
        "        print(f\"Epoch [{epoch+1}/{epochs}], KD Loss: {loss.item():.4f}\")\n"
      ],
      "metadata": {
        "colab": {
          "base_uri": "https://localhost:8080/"
        },
        "id": "RwF-b3K7VrP9",
        "outputId": "9d35306e-942e-4ff9-e576-0a5dc679a04d"
      },
      "execution_count": 10,
      "outputs": [
        {
          "output_type": "stream",
          "name": "stdout",
          "text": [
            "Epoch [10/10], KD Loss: 0.5456\n"
          ]
        }
      ]
    },
    {
      "cell_type": "markdown",
      "source": [
        "# Testing"
      ],
      "metadata": {
        "id": "o8wy3f7QYlJm"
      }
    },
    {
      "cell_type": "code",
      "source": [
        "import time\n",
        "\n",
        "# 1. Accuracy function\n",
        "def evaluate_accuracy(model, xTest, yTest):\n",
        "    model.eval()\n",
        "    with torch.no_grad():\n",
        "        y_pred = model(xTest)\n",
        "        predicted_classes = torch.argmax(y_pred, dim=1)\n",
        "        accuracy = (predicted_classes == yTest).float().mean().item()\n",
        "    return accuracy\n",
        "\n",
        "import time\n",
        "\n",
        "def evaluate_inference_time_stable(model, xTest, repeats=10):\n",
        "    model.eval()\n",
        "    # warm-up\n",
        "    with torch.no_grad():\n",
        "        _ = model(xTest)\n",
        "\n",
        "    times = []\n",
        "    with torch.no_grad():\n",
        "        for _ in range(repeats):\n",
        "            start = time.time()\n",
        "            _ = model(xTest)\n",
        "            end = time.time()\n",
        "            times.append(end - start)\n",
        "    total_time = sum(times) / repeats\n",
        "    avg_time = total_time / xTest.size(0)\n",
        "    return total_time, avg_time\n",
        "\n",
        "\n",
        "# 3. Model size function\n",
        "def evaluate_model_size(model):\n",
        "    num_params = sum(p.numel() for p in model.parameters() if p.requires_grad)\n",
        "    param_size_MB = num_params * 4 / (1024**2)  # 4 bytes per float32\n",
        "    return num_params, param_size_MB\n"
      ],
      "metadata": {
        "id": "g2N2jV79Y1D3"
      },
      "execution_count": 11,
      "outputs": []
    },
    {
      "cell_type": "markdown",
      "source": [
        "# Results"
      ],
      "metadata": {
        "id": "BkFc77fkY3Cu"
      }
    },
    {
      "cell_type": "code",
      "source": [
        "# Teacher\n",
        "teacher_acc = evaluate_accuracy(teacher, xTest, yTest)\n",
        "teacher_time, teacher_avg_time = evaluate_inference_time_stable(teacher, xTest)\n",
        "teacher_params, teacher_size = evaluate_model_size(teacher)\n",
        "\n",
        "print(f\"Teacher Accuracy: {teacher_acc:.4f}\")\n",
        "print(f\"Teacher Inference Time: {teacher_time:.6f}s ({teacher_avg_time:.6f}s per sample)\")\n",
        "print(f\"Teacher Params: {teacher_params}, Size: {teacher_size:.6f} MB\")\n",
        "\n",
        "# Student\n",
        "student_acc = evaluate_accuracy(student, xTest, yTest)\n",
        "student_time, student_avg_time = evaluate_inference_time_stable(student, xTest)\n",
        "student_params, student_size = evaluate_model_size(student)\n",
        "\n",
        "print(f\"Student Accuracy: {student_acc:.4f}\")\n",
        "print(f\"Student Inference Time: {student_time:.6f}s ({student_avg_time:.6f}s per sample)\")\n",
        "print(f\"Student Params: {student_params}, Size: {student_size:.6f} MB\")\n"
      ],
      "metadata": {
        "colab": {
          "base_uri": "https://localhost:8080/"
        },
        "id": "B7CLa3Z5Y5Hw",
        "outputId": "cd688e4a-c40e-4f23-a98b-8f9437a242b7"
      },
      "execution_count": 12,
      "outputs": [
        {
          "output_type": "stream",
          "name": "stdout",
          "text": [
            "Teacher Accuracy: 0.2222\n",
            "Teacher Inference Time: 0.000374s (0.000010s per sample)\n",
            "Teacher Params: 3667, Size: 0.013988 MB\n",
            "Student Accuracy: 0.6111\n",
            "Student Inference Time: 0.000050s (0.000001s per sample)\n",
            "Student Params: 275, Size: 0.001049 MB\n"
          ]
        }
      ]
    },
    {
      "cell_type": "code",
      "source": [
        "def percent_change(student_val, teacher_val):\n",
        "    return ((student_val - teacher_val) / teacher_val) * 100 if teacher_val != 0 else float('inf')\n",
        "\n",
        "acc_change_s = percent_change(student_acc, teacher_acc)\n",
        "time_change_s = percent_change(student_time, teacher_time)\n",
        "avg_time_change_s = percent_change(student_avg_time, teacher_avg_time)\n",
        "params_change_s = percent_change(student_params, teacher_params)\n",
        "size_change_s = percent_change(student_size, teacher_size)\n",
        "\n",
        "print(\"\\n--- Percentage Change (Student vs Teacher) ---\")\n",
        "print(f\"Accuracy Change: {acc_change_s:.2f}%\")\n",
        "print(f\"Total Inference Time Change: {time_change_s:.2f}%\")\n",
        "print(f\"Avg Inference Time per Sample Change: {avg_time_change_s:.2f}%\")\n",
        "print(f\"Params Change: {params_change_s:.2f}%\")\n",
        "print(f\"Model Size Change: {size_change_s:.2f}%\")"
      ],
      "metadata": {
        "colab": {
          "base_uri": "https://localhost:8080/"
        },
        "id": "waVJzK0WZ6ww",
        "outputId": "02d41787-9488-4d46-d8b8-d6b4ddffcfe4"
      },
      "execution_count": 13,
      "outputs": [
        {
          "output_type": "stream",
          "name": "stdout",
          "text": [
            "\n",
            "--- Percentage Change (Student vs Teacher) ---\n",
            "Accuracy Change: 175.00%\n",
            "Total Inference Time Change: -86.58%\n",
            "Avg Inference Time per Sample Change: -86.58%\n",
            "Params Change: -92.50%\n",
            "Model Size Change: -92.50%\n"
          ]
        }
      ]
    },
    {
      "cell_type": "markdown",
      "source": [
        "# Regular Teaching"
      ],
      "metadata": {
        "id": "atgcQzlNhO8R"
      }
    },
    {
      "cell_type": "code",
      "source": [
        "class winePerson(nn.Module):\n",
        "  def __init__(self):\n",
        "    super(winePerson,self).__init__()\n",
        "    self.fc1=nn.Linear(13,16)\n",
        "    self.fc2=nn.Linear(16,3)\n",
        "\n",
        "  def forward(self,x):\n",
        "    x=F.relu(self.fc1(x))\n",
        "    x=self.fc2(x)\n",
        "    return x"
      ],
      "metadata": {
        "id": "Zw8uoG5OhAZg"
      },
      "execution_count": 14,
      "outputs": []
    },
    {
      "cell_type": "code",
      "source": [
        "person = winePerson()\n",
        "\n",
        "# Loss and optimizer\n",
        "criterion = nn.CrossEntropyLoss()\n",
        "optimizer = optim.Adam(person.parameters(), lr=0.001)\n",
        "\n",
        "\n",
        "\n",
        "# Training loop\n",
        "for epoch in range(epochs):\n",
        "    person.train()\n",
        "    optimizer.zero_grad()             # reset gradients\n",
        "    outputs = person(xTrain)          # forward pass\n",
        "    loss = criterion(outputs, yTrain) # compute loss\n",
        "    loss.backward()                   # backpropagation\n",
        "    optimizer.step()                  # update weights\n",
        "\n",
        "    # print every 10 epochs\n",
        "    if (epoch+1) % 10 == 0:\n",
        "        print(f\"Epoch [{epoch+1}/{epochs}], Loss: {loss.item():.4f}\")"
      ],
      "metadata": {
        "id": "bGTEK_pZhavz",
        "outputId": "a1ff8f37-ded6-408b-9955-8356aa06ffd9",
        "colab": {
          "base_uri": "https://localhost:8080/"
        }
      },
      "execution_count": 15,
      "outputs": [
        {
          "output_type": "stream",
          "name": "stdout",
          "text": [
            "Epoch [10/10], Loss: 1.0666\n"
          ]
        }
      ]
    },
    {
      "cell_type": "code",
      "source": [
        "# Person metrics\n",
        "person_acc = evaluate_accuracy(person, xTest, yTest)\n",
        "person_time, person_avg_time = evaluate_inference_time_stable(person, xTest)\n",
        "person_params, person_size = evaluate_model_size(person)\n",
        "\n",
        "print(f\"Person Accuracy: {person_acc:.4f}\")\n",
        "print(f\"Person Inference Time: {person_time:.6f}s ({person_avg_time:.6f}s per sample)\")\n",
        "print(f\"Person Params: {person_params}, Size: {person_size:.6f} MB\")\n"
      ],
      "metadata": {
        "id": "ppzf_de7h7V6",
        "outputId": "5d29b306-f981-4b32-aeae-c59bb136fa32",
        "colab": {
          "base_uri": "https://localhost:8080/"
        }
      },
      "execution_count": 16,
      "outputs": [
        {
          "output_type": "stream",
          "name": "stdout",
          "text": [
            "Person Accuracy: 0.5833\n",
            "Person Inference Time: 0.000103s (0.000003s per sample)\n",
            "Person Params: 275, Size: 0.001049 MB\n"
          ]
        }
      ]
    },
    {
      "cell_type": "code",
      "source": [
        "acc_change_p = percent_change(person_acc, teacher_acc)\n",
        "time_change_p = percent_change(person_time, teacher_time)\n",
        "avg_time_change_p = percent_change(person_avg_time, teacher_avg_time)\n",
        "params_change_p = percent_change(person_params, teacher_params)\n",
        "size_change_p = percent_change(person_size, teacher_size)\n",
        "\n",
        "print(\"\\n--- Percentage Change(Person vs Teacher) ---\")\n",
        "print(f\"Accuracy Change: {acc_change_p:.2f}%\")\n",
        "print(f\"Total Inference Time Change: {time_change_p:.2f}%\")\n",
        "print(f\"Avg Inference Time per Sample Change: {avg_time_change_p:.2f}%\")\n",
        "print(f\"Params Change: {params_change_p:.2f}%\")\n",
        "print(f\"Model Size Change: {size_change_p:.2f}%\")\n"
      ],
      "metadata": {
        "id": "HimYtIjyh9f0",
        "outputId": "93480210-cf44-4f6b-a2fe-40568cbce3e3",
        "colab": {
          "base_uri": "https://localhost:8080/"
        }
      },
      "execution_count": 17,
      "outputs": [
        {
          "output_type": "stream",
          "name": "stdout",
          "text": [
            "\n",
            "--- Percentage Change(Person vs Teacher) ---\n",
            "Accuracy Change: 162.50%\n",
            "Total Inference Time Change: -72.48%\n",
            "Avg Inference Time per Sample Change: -72.48%\n",
            "Params Change: -92.50%\n",
            "Model Size Change: -92.50%\n"
          ]
        }
      ]
    },
    {
      "cell_type": "markdown",
      "source": [
        "# Model Comparism"
      ],
      "metadata": {
        "id": "41s85aJ4T8NF"
      }
    },
    {
      "cell_type": "code",
      "source": [
        "print(\"Person & Student agains the Teacher\\n\")\n",
        "\n",
        "print(\"Accuracy against Teacher\\n\")\n",
        "print(f\"Student: {acc_change_s:.2f}%\")\n",
        "print(f\"Person: {acc_change_p:.2f}%\")\n",
        "\n",
        "print(\"\\nInference Time against Teacher\\n\")\n",
        "print(f\"Student time: {time_change_s:.2f}%\")\n",
        "print(f\"Student avg: {avg_time_change_s:.2f}%\")\n",
        "print(f\"Perso time: {time_change_p:.2f}%\")\n",
        "print(f\"Person avg: {avg_time_change_p:.2f}%\")\n",
        "\n",
        "print(\"\\nModel Size against Teacher\\n\")\n",
        "print(f\"Model Size Change: {size_change_p:.2f}%\")\n",
        "print(f\"Model Size Change: {size_change_s:.2f}%\")"
      ],
      "metadata": {
        "colab": {
          "base_uri": "https://localhost:8080/"
        },
        "id": "D2gC7lnfT-2i",
        "outputId": "9c8a3d2c-c716-461e-dde2-537b284bf3ee"
      },
      "execution_count": 18,
      "outputs": [
        {
          "output_type": "stream",
          "name": "stdout",
          "text": [
            "Person & Student agains the Teacher\n",
            "\n",
            "Accuracy against Teacher\n",
            "\n",
            "Student: 175.00%\n",
            "Person: 162.50%\n",
            "\n",
            "Inference Time against Teacher\n",
            "\n",
            "Student time: -86.58%\n",
            "Student avg: -86.58%\n",
            "Perso time: -72.48%\n",
            "Person avg: -72.48%\n",
            "\n",
            "Model Size against Teacher\n",
            "\n",
            "Model Size Change: -92.50%\n",
            "Model Size Change: -92.50%\n"
          ]
        }
      ]
    }
  ]
}