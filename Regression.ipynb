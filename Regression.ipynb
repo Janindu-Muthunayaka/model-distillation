{
  "nbformat": 4,
  "nbformat_minor": 0,
  "metadata": {
    "colab": {
      "provenance": [],
      "toc_visible": true,
      "authorship_tag": "ABX9TyO9VsUbKG5sLHVZI3nnNBF/",
      "include_colab_link": true
    },
    "kernelspec": {
      "name": "python3",
      "display_name": "Python 3"
    },
    "language_info": {
      "name": "python"
    }
  },
  "cells": [
    {
      "cell_type": "markdown",
      "metadata": {
        "id": "view-in-github",
        "colab_type": "text"
      },
      "source": [
        "<a href=\"https://colab.research.google.com/github/Janindu-Muthunayaka/model-distillation/blob/main/Regression.ipynb\" target=\"_parent\"><img src=\"https://colab.research.google.com/assets/colab-badge.svg\" alt=\"Open In Colab\"/></a>"
      ]
    },
    {
      "cell_type": "markdown",
      "source": [
        "# Installments"
      ],
      "metadata": {
        "id": "lGy7_nhVqvdG"
      }
    },
    {
      "cell_type": "code",
      "source": [
        "!pip install numpy pandas scikit-learn torch\n",
        "\n",
        "import numpy as np\n",
        "import pandas as pd\n",
        "import torch\n",
        "import torch.nn as nn\n",
        "import torch.nn.functional as F\n",
        "import torch.optim as optim\n",
        "from sklearn.datasets import fetch_california_housing\n",
        "from sklearn.model_selection import train_test_split\n",
        "from sklearn.preprocessing import StandardScaler"
      ],
      "metadata": {
        "colab": {
          "base_uri": "https://localhost:8080/"
        },
        "id": "xTH6OfNJqzrv",
        "outputId": "e2b57502-11af-4fde-b6b6-9f206468278d"
      },
      "execution_count": 1,
      "outputs": [
        {
          "output_type": "stream",
          "name": "stdout",
          "text": [
            "Requirement already satisfied: numpy in /usr/local/lib/python3.12/dist-packages (2.0.2)\n",
            "Requirement already satisfied: pandas in /usr/local/lib/python3.12/dist-packages (2.2.2)\n",
            "Requirement already satisfied: scikit-learn in /usr/local/lib/python3.12/dist-packages (1.6.1)\n",
            "Requirement already satisfied: torch in /usr/local/lib/python3.12/dist-packages (2.8.0+cu126)\n",
            "Requirement already satisfied: python-dateutil>=2.8.2 in /usr/local/lib/python3.12/dist-packages (from pandas) (2.9.0.post0)\n",
            "Requirement already satisfied: pytz>=2020.1 in /usr/local/lib/python3.12/dist-packages (from pandas) (2025.2)\n",
            "Requirement already satisfied: tzdata>=2022.7 in /usr/local/lib/python3.12/dist-packages (from pandas) (2025.2)\n",
            "Requirement already satisfied: scipy>=1.6.0 in /usr/local/lib/python3.12/dist-packages (from scikit-learn) (1.16.1)\n",
            "Requirement already satisfied: joblib>=1.2.0 in /usr/local/lib/python3.12/dist-packages (from scikit-learn) (1.5.2)\n",
            "Requirement already satisfied: threadpoolctl>=3.1.0 in /usr/local/lib/python3.12/dist-packages (from scikit-learn) (3.6.0)\n",
            "Requirement already satisfied: filelock in /usr/local/lib/python3.12/dist-packages (from torch) (3.19.1)\n",
            "Requirement already satisfied: typing-extensions>=4.10.0 in /usr/local/lib/python3.12/dist-packages (from torch) (4.15.0)\n",
            "Requirement already satisfied: setuptools in /usr/local/lib/python3.12/dist-packages (from torch) (75.2.0)\n",
            "Requirement already satisfied: sympy>=1.13.3 in /usr/local/lib/python3.12/dist-packages (from torch) (1.13.3)\n",
            "Requirement already satisfied: networkx in /usr/local/lib/python3.12/dist-packages (from torch) (3.5)\n",
            "Requirement already satisfied: jinja2 in /usr/local/lib/python3.12/dist-packages (from torch) (3.1.6)\n",
            "Requirement already satisfied: fsspec in /usr/local/lib/python3.12/dist-packages (from torch) (2025.3.0)\n",
            "Requirement already satisfied: nvidia-cuda-nvrtc-cu12==12.6.77 in /usr/local/lib/python3.12/dist-packages (from torch) (12.6.77)\n",
            "Requirement already satisfied: nvidia-cuda-runtime-cu12==12.6.77 in /usr/local/lib/python3.12/dist-packages (from torch) (12.6.77)\n",
            "Requirement already satisfied: nvidia-cuda-cupti-cu12==12.6.80 in /usr/local/lib/python3.12/dist-packages (from torch) (12.6.80)\n",
            "Requirement already satisfied: nvidia-cudnn-cu12==9.10.2.21 in /usr/local/lib/python3.12/dist-packages (from torch) (9.10.2.21)\n",
            "Requirement already satisfied: nvidia-cublas-cu12==12.6.4.1 in /usr/local/lib/python3.12/dist-packages (from torch) (12.6.4.1)\n",
            "Requirement already satisfied: nvidia-cufft-cu12==11.3.0.4 in /usr/local/lib/python3.12/dist-packages (from torch) (11.3.0.4)\n",
            "Requirement already satisfied: nvidia-curand-cu12==10.3.7.77 in /usr/local/lib/python3.12/dist-packages (from torch) (10.3.7.77)\n",
            "Requirement already satisfied: nvidia-cusolver-cu12==11.7.1.2 in /usr/local/lib/python3.12/dist-packages (from torch) (11.7.1.2)\n",
            "Requirement already satisfied: nvidia-cusparse-cu12==12.5.4.2 in /usr/local/lib/python3.12/dist-packages (from torch) (12.5.4.2)\n",
            "Requirement already satisfied: nvidia-cusparselt-cu12==0.7.1 in /usr/local/lib/python3.12/dist-packages (from torch) (0.7.1)\n",
            "Requirement already satisfied: nvidia-nccl-cu12==2.27.3 in /usr/local/lib/python3.12/dist-packages (from torch) (2.27.3)\n",
            "Requirement already satisfied: nvidia-nvtx-cu12==12.6.77 in /usr/local/lib/python3.12/dist-packages (from torch) (12.6.77)\n",
            "Requirement already satisfied: nvidia-nvjitlink-cu12==12.6.85 in /usr/local/lib/python3.12/dist-packages (from torch) (12.6.85)\n",
            "Requirement already satisfied: nvidia-cufile-cu12==1.11.1.6 in /usr/local/lib/python3.12/dist-packages (from torch) (1.11.1.6)\n",
            "Requirement already satisfied: triton==3.4.0 in /usr/local/lib/python3.12/dist-packages (from torch) (3.4.0)\n",
            "Requirement already satisfied: six>=1.5 in /usr/local/lib/python3.12/dist-packages (from python-dateutil>=2.8.2->pandas) (1.17.0)\n",
            "Requirement already satisfied: mpmath<1.4,>=1.1.0 in /usr/local/lib/python3.12/dist-packages (from sympy>=1.13.3->torch) (1.3.0)\n",
            "Requirement already satisfied: MarkupSafe>=2.0 in /usr/local/lib/python3.12/dist-packages (from jinja2->torch) (3.0.2)\n"
          ]
        }
      ]
    },
    {
      "cell_type": "markdown",
      "source": [
        "# Data Preparation"
      ],
      "metadata": {
        "id": "fOWJF4I6q8UC"
      }
    },
    {
      "cell_type": "markdown",
      "source": [
        "Splitting"
      ],
      "metadata": {
        "id": "fo43VVC3rLpJ"
      }
    },
    {
      "cell_type": "code",
      "source": [
        "housing = fetch_california_housing(as_frame=True)\n",
        "X_House = housing.data\n",
        "Y_House = housing.target\n",
        "\n",
        "print(\"Feature columns:\", X_House.columns.tolist())\n",
        "print(\"\\nTarget (what we predict): MedianHouseValue\")\n",
        "\n",
        "# Train-test split\n",
        "xTrain, xTest, yTrain, yTest = train_test_split(\n",
        "    X_House, Y_House, test_size=0.2, random_state=42\n",
        ")\n"
      ],
      "metadata": {
        "colab": {
          "base_uri": "https://localhost:8080/"
        },
        "id": "yFWYj6pprHFB",
        "outputId": "4ac482d6-30f6-459d-bf5d-9d3c2ea2ba28"
      },
      "execution_count": 2,
      "outputs": [
        {
          "output_type": "stream",
          "name": "stdout",
          "text": [
            "Feature columns: ['MedInc', 'HouseAge', 'AveRooms', 'AveBedrms', 'Population', 'AveOccup', 'Latitude', 'Longitude']\n",
            "\n",
            "Target (what we predict): MedianHouseValue\n"
          ]
        }
      ]
    },
    {
      "cell_type": "markdown",
      "source": [
        "Scaling"
      ],
      "metadata": {
        "id": "EzWBsaFSrJ8H"
      }
    },
    {
      "cell_type": "code",
      "source": [
        "# Scale features\n",
        "scaler = StandardScaler()\n",
        "xTrain = scaler.fit_transform(xTrain)\n",
        "xTest = scaler.transform(xTest)\n",
        "\n",
        "# Convert to torch tensors\n",
        "xTrain = torch.tensor(xTrain, dtype=torch.float32)\n",
        "yTrain = torch.tensor(yTrain.values, dtype=torch.float32).view(-1, 1)  # regression → float\n",
        "xTest = torch.tensor(xTest, dtype=torch.float32)\n",
        "yTest = torch.tensor(yTest.values, dtype=torch.float32).view(-1, 1)\n"
      ],
      "metadata": {
        "id": "mlFkmm5arOVh"
      },
      "execution_count": 3,
      "outputs": []
    },
    {
      "cell_type": "markdown",
      "source": [
        "# Training Teacher"
      ],
      "metadata": {
        "id": "fZBm264rrZrG"
      }
    },
    {
      "cell_type": "code",
      "source": [
        "class HouseTeacher(nn.Module):\n",
        "    def __init__(self):\n",
        "        super(HouseTeacher, self).__init__()\n",
        "        self.fc1 = nn.Linear(8, 64)   # input: 8 features\n",
        "        self.fc2 = nn.Linear(64, 32)\n",
        "        self.fc3 = nn.Linear(32, 16)\n",
        "        self.fc4 = nn.Linear(16, 8)\n",
        "        self.fc5 = nn.Linear(8, 1)    # output: 1 (house price)\n",
        "\n",
        "    def forward(self, x):\n",
        "        x = F.relu(self.fc1(x))\n",
        "        x = F.relu(self.fc2(x))\n",
        "        x = F.relu(self.fc3(x))\n",
        "        x = F.relu(self.fc4(x))\n",
        "        x = self.fc5(x)   # no activation → regression output\n",
        "        return x\n"
      ],
      "metadata": {
        "id": "C2u5VdNQrdpl"
      },
      "execution_count": 5,
      "outputs": []
    },
    {
      "cell_type": "markdown",
      "source": [
        "Training with MSE Loss"
      ],
      "metadata": {
        "id": "Jk7aOf41ruEd"
      }
    },
    {
      "cell_type": "code",
      "source": [
        "teacher = HouseTeacher()\n",
        "criterion = nn.MSELoss()\n",
        "optimizer = optim.Adam(teacher.parameters(), lr=0.001)\n",
        "epochs = 20\n",
        "\n",
        "for epoch in range(epochs):\n",
        "    teacher.train()\n",
        "    optimizer.zero_grad()\n",
        "    outputs = teacher(xTrain)\n",
        "    loss = criterion(outputs.squeeze(), yTrain)  # squeeze() to match shapes\n",
        "    loss.backward()\n",
        "    optimizer.step()\n",
        "\n",
        "    if (epoch + 1) % 2 == 0:\n",
        "        print(f\"Epoch [{epoch+1}/{epochs}], Loss: {loss.item():.4f}\")\n"
      ],
      "metadata": {
        "colab": {
          "base_uri": "https://localhost:8080/"
        },
        "id": "uR_8jONortKH",
        "outputId": "53c584bf-d613-471e-87f9-4cb296b9fda6"
      },
      "execution_count": 9,
      "outputs": [
        {
          "output_type": "stream",
          "name": "stdout",
          "text": [
            "Epoch [2/20], Loss: 6.3683\n",
            "Epoch [4/20], Loss: 6.3126\n",
            "Epoch [6/20], Loss: 6.2576\n",
            "Epoch [8/20], Loss: 6.2022\n",
            "Epoch [10/20], Loss: 6.1458\n",
            "Epoch [12/20], Loss: 6.0874\n",
            "Epoch [14/20], Loss: 6.0265\n",
            "Epoch [16/20], Loss: 5.9645\n",
            "Epoch [18/20], Loss: 5.9059\n",
            "Epoch [20/20], Loss: 5.8548\n"
          ]
        }
      ]
    },
    {
      "cell_type": "markdown",
      "source": [
        "# Training Student"
      ],
      "metadata": {
        "id": "ZQPBWc8erh98"
      }
    },
    {
      "cell_type": "code",
      "source": [
        "class HouseStudent(nn.Module):\n",
        "    def __init__(self):\n",
        "        super(HouseStudent, self).__init__()\n",
        "        self.fc1 = nn.Linear(8, 16)   # input: 8 features\n",
        "        self.fc2 = nn.Linear(16, 8)\n",
        "        self.fc3 = nn.Linear(8, 1)    # output: 1 (house price)\n",
        "\n",
        "    def forward(self, x):\n",
        "        x = F.relu(self.fc1(x))\n",
        "        x = F.relu(self.fc2(x))\n",
        "        x = self.fc3(x)\n",
        "        return x"
      ],
      "metadata": {
        "id": "dsvbK30jrpK_"
      },
      "execution_count": 10,
      "outputs": []
    },
    {
      "cell_type": "markdown",
      "source": [
        "Training with Distillation Loss"
      ],
      "metadata": {
        "id": "nLEdX0kdr1Il"
      }
    },
    {
      "cell_type": "code",
      "source": [
        "def distillation_loss_regression(student_out, teacher_out, true_labels, alpha=0.5):\n",
        "    # Hard loss: student vs true labels\n",
        "    hard_loss = F.mse_loss(student_out, true_labels)\n",
        "    # Soft loss: student vs teacher\n",
        "    soft_loss = F.mse_loss(student_out, teacher_out)\n",
        "    # Weighted sum\n",
        "    return alpha * hard_loss + (1 - alpha) * soft_loss\n",
        "\n",
        "student = HouseStudent()\n",
        "optimizer_s = optim.Adam(student.parameters(), lr=0.001)\n",
        "\n",
        "for epoch in range(epochs):\n",
        "    student.train()\n",
        "    optimizer_s.zero_grad()\n",
        "\n",
        "    with torch.no_grad():\n",
        "        teacher_outputs = teacher(xTrain)\n",
        "\n",
        "    student_outputs = student(xTrain)\n",
        "\n",
        "    loss = distillation_loss_regression(student_outputs, teacher_outputs, yTrain)\n",
        "\n",
        "    loss.backward()\n",
        "    optimizer_s.step()\n",
        "\n",
        "    if (epoch + 1) % 10 == 0:\n",
        "        print(f\"Epoch [{epoch+1}/{epochs}], KD Loss: {loss.item():.4f}\")\n"
      ],
      "metadata": {
        "colab": {
          "base_uri": "https://localhost:8080/"
        },
        "id": "h-AF601Mr5Nd",
        "outputId": "02a02216-0239-425e-9ca7-b35d35386a35"
      },
      "execution_count": 11,
      "outputs": [
        {
          "output_type": "stream",
          "name": "stdout",
          "text": [
            "Epoch [10/20], KD Loss: 3.4971\n",
            "Epoch [20/20], KD Loss: 3.3592\n"
          ]
        }
      ]
    },
    {
      "cell_type": "markdown",
      "source": [
        "# Testing"
      ],
      "metadata": {
        "id": "sZJhfSUBr7-M"
      }
    },
    {
      "cell_type": "code",
      "source": [
        "import time\n",
        "import math\n",
        "\n",
        "# 1. RMSE function\n",
        "def evaluate_rmse(model, xTest, yTest):\n",
        "    model.eval()\n",
        "    with torch.no_grad():\n",
        "        y_pred = model(xTest)\n",
        "        mse = F.mse_loss(y_pred, yTest)\n",
        "        rmse = torch.sqrt(mse).item()\n",
        "    return rmse\n",
        "\n",
        "# 2. Inference time function\n",
        "def evaluate_inference_time(model, xTest):\n",
        "    model.eval()\n",
        "    with torch.no_grad():\n",
        "        start_time = time.time()\n",
        "        _ = model(xTest)\n",
        "        end_time = time.time()\n",
        "    elapsed_time = end_time - start_time\n",
        "    avg_time = elapsed_time / xTest.size(0)\n",
        "    return elapsed_time, avg_time\n",
        "\n",
        "# 3. Model size function\n",
        "def evaluate_model_size(model):\n",
        "    num_params = sum(p.numel() for p in model.parameters() if p.requires_grad)\n",
        "    param_size_MB = num_params * 4 / (1024**2)  # 4 bytes per float32\n",
        "    return num_params, param_size_MB\n"
      ],
      "metadata": {
        "id": "MuJ9pWcesC15"
      },
      "execution_count": 12,
      "outputs": []
    },
    {
      "cell_type": "markdown",
      "source": [
        "# Results"
      ],
      "metadata": {
        "id": "pYRLpyjnsFSo"
      }
    },
    {
      "cell_type": "code",
      "source": [
        "# Teacher\n",
        "teacher_rmse = evaluate_rmse(teacher, xTest, yTest)\n",
        "teacher_time, teacher_avg_time = evaluate_inference_time(teacher, xTest)\n",
        "teacher_params, teacher_size = evaluate_model_size(teacher)\n",
        "\n",
        "print(f\"Teacher RMSE: {teacher_rmse:.4f}\")\n",
        "print(f\"Teacher Inference Time: {teacher_time:.6f}s ({teacher_avg_time:.6f}s per sample)\")\n",
        "print(f\"Teacher Params: {teacher_params}, Size: {teacher_size:.6f} MB\")\n",
        "\n",
        "# Student\n",
        "student_rmse = evaluate_rmse(student, xTest, yTest)\n",
        "student_time, student_avg_time = evaluate_inference_time(student, xTest)\n",
        "student_params, student_size = evaluate_model_size(student)\n",
        "\n",
        "print(f\"Student RMSE: {student_rmse:.4f}\")\n",
        "print(f\"Student Inference Time: {student_time:.6f}s ({student_avg_time:.6f}s per sample)\")\n",
        "print(f\"Student Params: {student_params}, Size: {student_size:.6f} MB\")\n"
      ],
      "metadata": {
        "colab": {
          "base_uri": "https://localhost:8080/"
        },
        "id": "2Xag5A6ksHz9",
        "outputId": "5b0d642d-df31-4e18-c566-9b2ca83f0f2c"
      },
      "execution_count": 13,
      "outputs": [
        {
          "output_type": "stream",
          "name": "stdout",
          "text": [
            "Teacher RMSE: 2.3947\n",
            "Teacher Inference Time: 0.002627s (0.000001s per sample)\n",
            "Teacher Params: 3329, Size: 0.012699 MB\n",
            "Student RMSE: 2.5609\n",
            "Student Inference Time: 0.000389s (0.000000s per sample)\n",
            "Student Params: 289, Size: 0.001102 MB\n"
          ]
        }
      ]
    },
    {
      "cell_type": "code",
      "source": [
        "def percent_change(student_val, teacher_val):\n",
        "    return ((student_val - teacher_val) / teacher_val) * 100 if teacher_val != 0 else float('inf')\n",
        "\n",
        "rmse_change = percent_change(student_rmse, teacher_rmse)\n",
        "time_change = percent_change(student_time, teacher_time)\n",
        "avg_time_change = percent_change(student_avg_time, teacher_avg_time)\n",
        "params_change = percent_change(student_params, teacher_params)\n",
        "size_change = percent_change(student_size, teacher_size)\n",
        "\n",
        "print(\"\\n--- Percentage Change (Student vs Teacher) ---\")\n",
        "print(f\"RMSE Change: {rmse_change:.2f}%\")\n",
        "print(f\"Total Inference Time Change: {time_change:.2f}%\")\n",
        "print(f\"Avg Inference Time per Sample Change: {avg_time_change:.2f}%\")\n",
        "print(f\"Params Change: {params_change:.2f}%\")\n",
        "print(f\"Model Size Change: {size_change:.2f}%\")\n"
      ],
      "metadata": {
        "colab": {
          "base_uri": "https://localhost:8080/"
        },
        "id": "zbKCO0uHsTGo",
        "outputId": "43265555-bad9-4e74-c7ab-d9d27996bee9"
      },
      "execution_count": 14,
      "outputs": [
        {
          "output_type": "stream",
          "name": "stdout",
          "text": [
            "\n",
            "--- Percentage Change (Student vs Teacher) ---\n",
            "RMSE Change: 6.94%\n",
            "Total Inference Time Change: -85.19%\n",
            "Avg Inference Time per Sample Change: -85.19%\n",
            "Params Change: -91.32%\n",
            "Model Size Change: -91.32%\n"
          ]
        }
      ]
    }
  ]
}