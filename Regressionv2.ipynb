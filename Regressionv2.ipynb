{
  "nbformat": 4,
  "nbformat_minor": 0,
  "metadata": {
    "colab": {
      "provenance": [],
      "toc_visible": true,
      "authorship_tag": "ABX9TyO66XXeywmtJqoPb1YIX9fN",
      "include_colab_link": true
    },
    "kernelspec": {
      "name": "python3",
      "display_name": "Python 3"
    },
    "language_info": {
      "name": "python"
    }
  },
  "cells": [
    {
      "cell_type": "markdown",
      "metadata": {
        "id": "view-in-github",
        "colab_type": "text"
      },
      "source": [
        "<a href=\"https://colab.research.google.com/github/Janindu-Muthunayaka/model-distillation/blob/main/Regressionv2.ipynb\" target=\"_parent\"><img src=\"https://colab.research.google.com/assets/colab-badge.svg\" alt=\"Open In Colab\"/></a>"
      ]
    },
    {
      "cell_type": "markdown",
      "source": [
        "# Imports and DataSet"
      ],
      "metadata": {
        "id": "6bvDEfzMY9ZO"
      }
    },
    {
      "cell_type": "code",
      "source": [
        "import numpy as np\n",
        "import pandas as pd\n",
        "import torch\n",
        "import torch.nn as nn\n",
        "import torch.nn.functional as F\n",
        "import torch.optim as optim\n",
        "from sklearn.datasets import fetch_california_housing\n",
        "from sklearn.model_selection import train_test_split\n",
        "from sklearn.preprocessing import StandardScaler\n",
        "import time\n",
        "\n",
        "# Data Preparation\n",
        "housing = fetch_california_housing(as_frame=True)\n",
        "X_House = housing.data\n",
        "Y_House = housing.target\n",
        "\n",
        "xTrain, xTest, yTrain, yTest = train_test_split(\n",
        "    X_House, Y_House, test_size=0.2, random_state=42\n",
        ")\n",
        "\n",
        "scaler = StandardScaler()\n",
        "xTrain = scaler.fit_transform(xTrain)\n",
        "xTest = scaler.transform(xTest)\n",
        "\n",
        "xTrain = torch.tensor(xTrain, dtype=torch.float32)\n",
        "yTrain = torch.tensor(yTrain.values, dtype=torch.float32).view(-1, 1)\n",
        "xTest = torch.tensor(xTest, dtype=torch.float32)\n",
        "yTest = torch.tensor(yTest.values, dtype=torch.float32).view(-1, 1)\n"
      ],
      "metadata": {
        "id": "25qgUWvcYn2g"
      },
      "execution_count": 8,
      "outputs": []
    },
    {
      "cell_type": "markdown",
      "source": [
        "# Teacher Model"
      ],
      "metadata": {
        "id": "Y9HB8G27YdDd"
      }
    },
    {
      "cell_type": "code",
      "execution_count": 9,
      "metadata": {
        "id": "W8QjmzwVqp0s",
        "collapsed": true,
        "colab": {
          "base_uri": "https://localhost:8080/"
        },
        "outputId": "b8412dd4-04ee-4a7d-ad76-5c904305b111"
      },
      "outputs": [
        {
          "output_type": "stream",
          "name": "stdout",
          "text": [
            "Epoch [10/500], Loss: 3.1027\n",
            "Epoch [20/500], Loss: 1.3881\n",
            "Epoch [30/500], Loss: 0.8496\n",
            "Epoch [40/500], Loss: 0.7184\n",
            "Epoch [50/500], Loss: 0.6139\n",
            "Epoch [60/500], Loss: 0.5431\n",
            "Epoch [70/500], Loss: 0.4836\n",
            "Epoch [80/500], Loss: 0.4437\n",
            "Epoch [90/500], Loss: 0.4181\n",
            "Epoch [100/500], Loss: 0.4000\n",
            "Epoch [110/500], Loss: 0.3852\n",
            "Epoch [120/500], Loss: 0.3722\n",
            "Epoch [130/500], Loss: 0.3604\n",
            "Epoch [140/500], Loss: 0.3490\n",
            "Epoch [150/500], Loss: 0.3387\n",
            "Epoch [160/500], Loss: 0.3291\n",
            "Epoch [170/500], Loss: 0.3189\n",
            "Epoch [180/500], Loss: 0.3188\n",
            "Epoch [190/500], Loss: 0.3093\n",
            "Epoch [200/500], Loss: 0.3011\n",
            "Epoch [210/500], Loss: 0.2959\n",
            "Epoch [220/500], Loss: 0.2910\n",
            "Epoch [230/500], Loss: 0.2864\n",
            "Epoch [240/500], Loss: 0.2849\n",
            "Epoch [250/500], Loss: 0.2839\n",
            "Epoch [260/500], Loss: 0.2793\n",
            "Epoch [270/500], Loss: 0.2738\n",
            "Epoch [280/500], Loss: 0.2706\n",
            "Epoch [290/500], Loss: 0.2678\n",
            "Epoch [300/500], Loss: 0.3049\n",
            "Epoch [310/500], Loss: 0.2699\n",
            "Epoch [320/500], Loss: 0.2629\n",
            "Epoch [330/500], Loss: 0.2598\n",
            "Epoch [340/500], Loss: 0.2574\n",
            "Epoch [350/500], Loss: 0.2561\n",
            "Epoch [360/500], Loss: 0.2536\n",
            "Epoch [370/500], Loss: 0.2571\n",
            "Epoch [380/500], Loss: 0.2590\n",
            "Epoch [390/500], Loss: 0.2506\n",
            "Epoch [400/500], Loss: 0.2479\n",
            "Epoch [410/500], Loss: 0.2471\n",
            "Epoch [420/500], Loss: 0.2445\n",
            "Epoch [430/500], Loss: 0.3011\n",
            "Epoch [440/500], Loss: 0.2656\n",
            "Epoch [450/500], Loss: 0.2486\n",
            "Epoch [460/500], Loss: 0.2470\n",
            "Epoch [470/500], Loss: 0.2397\n",
            "Epoch [480/500], Loss: 0.2381\n",
            "Epoch [490/500], Loss: 0.2370\n",
            "Epoch [500/500], Loss: 0.2352\n"
          ]
        }
      ],
      "source": [
        "# Teacher Model (significantly larger)\n",
        "class HouseTeacher(nn.Module):\n",
        "    def __init__(self):\n",
        "        super(HouseTeacher, self).__init__()\n",
        "        self.fc1 = nn.Linear(8, 512)\n",
        "        self.fc2 = nn.Linear(512, 256)\n",
        "        self.fc3 = nn.Linear(256, 128)\n",
        "        self.fc4 = nn.Linear(128, 64)\n",
        "        self.fc5 = nn.Linear(64, 32)\n",
        "        self.fc6 = nn.Linear(32, 1)\n",
        "\n",
        "    def forward(self, x):\n",
        "        x = F.relu(self.fc1(x))\n",
        "        x = F.relu(self.fc2(x))\n",
        "        x = F.relu(self.fc3(x))\n",
        "        x = F.relu(self.fc4(x))\n",
        "        x = F.relu(self.fc5(x))\n",
        "        x = self.fc6(x)\n",
        "        return x\n",
        "\n",
        "teacher = HouseTeacher()\n",
        "criterion = nn.MSELoss()\n",
        "optimizer = optim.Adam(teacher.parameters(), lr=0.001)\n",
        "epochs_teacher = 500\n",
        "\n",
        "for epoch in range(epochs_teacher):\n",
        "    teacher.train()\n",
        "    optimizer.zero_grad()\n",
        "    outputs = teacher(xTrain)\n",
        "    loss = criterion(outputs, yTrain)\n",
        "    loss.backward()\n",
        "    optimizer.step()\n",
        "\n",
        "    if (epoch + 1) % 10 == 0:\n",
        "        print(f\"Epoch [{epoch+1}/{epochs_teacher}], Loss: {loss.item():.4f}\")\n",
        "\n"
      ]
    },
    {
      "cell_type": "markdown",
      "source": [
        "# Student Model"
      ],
      "metadata": {
        "id": "-vz80kdSYVul"
      }
    },
    {
      "cell_type": "code",
      "source": [
        "# Student Model\n",
        "class HouseStudent(nn.Module):\n",
        "    def __init__(self):\n",
        "        super(HouseStudent, self).__init__()\n",
        "        self.fc1 = nn.Linear(8, 16)\n",
        "        self.fc2 = nn.Linear(16, 8)\n",
        "        self.fc3 = nn.Linear(8, 1)\n",
        "\n",
        "    def forward(self, x):\n",
        "        x = F.relu(self.fc1(x))\n",
        "        x = F.relu(self.fc2(x))\n",
        "        x = self.fc3(x)\n",
        "        return x\n",
        "\n",
        "def distillation_loss_regression(student_out, teacher_out, true_labels, alpha=0.5):\n",
        "  hard_loss = F.mse_loss(student_out, true_labels)\n",
        "  soft_loss = F.mse_loss(student_out, teacher_out)\n",
        "  return alpha * hard_loss + (1 - alpha) * soft_loss\n",
        "\n",
        "\n",
        "student = HouseStudent()\n",
        "optimizer_s = optim.Adam(student.parameters(), lr=0.001)\n",
        "epochs = 500\n",
        "\n",
        "for epoch in range(epochs):\n",
        "    student.train()\n",
        "    optimizer_s.zero_grad()\n",
        "\n",
        "    with torch.no_grad():\n",
        "        teacher_outputs = teacher(xTrain)\n",
        "\n",
        "    student_outputs = student(xTrain)\n",
        "\n",
        "    loss = distillation_loss_regression(student_outputs, teacher_outputs, yTrain)\n",
        "\n",
        "    loss.backward()\n",
        "    optimizer_s.step()\n",
        "\n",
        "    if (epoch + 1) % 10 == 0:\n",
        "        print(f\"Epoch [{epoch+1}/{epochs}], KD Loss: {loss.item():.4f}\")\n",
        "\n"
      ],
      "metadata": {
        "colab": {
          "base_uri": "https://localhost:8080/"
        },
        "id": "P9IwL28_YZ0B",
        "outputId": "62956df1-8b56-49f6-c14b-088e4594de92"
      },
      "execution_count": 10,
      "outputs": [
        {
          "output_type": "stream",
          "name": "stdout",
          "text": [
            "Epoch [10/500], KD Loss: 5.0915\n",
            "Epoch [20/500], KD Loss: 4.8967\n",
            "Epoch [30/500], KD Loss: 4.7156\n",
            "Epoch [40/500], KD Loss: 4.5344\n",
            "Epoch [50/500], KD Loss: 4.3393\n",
            "Epoch [60/500], KD Loss: 4.1189\n",
            "Epoch [70/500], KD Loss: 3.8600\n",
            "Epoch [80/500], KD Loss: 3.5461\n",
            "Epoch [90/500], KD Loss: 3.1827\n",
            "Epoch [100/500], KD Loss: 2.7883\n",
            "Epoch [110/500], KD Loss: 2.3848\n",
            "Epoch [120/500], KD Loss: 2.0009\n",
            "Epoch [130/500], KD Loss: 1.6565\n",
            "Epoch [140/500], KD Loss: 1.3638\n",
            "Epoch [150/500], KD Loss: 1.1281\n",
            "Epoch [160/500], KD Loss: 0.9484\n",
            "Epoch [170/500], KD Loss: 0.8199\n",
            "Epoch [180/500], KD Loss: 0.7337\n",
            "Epoch [190/500], KD Loss: 0.6773\n",
            "Epoch [200/500], KD Loss: 0.6393\n",
            "Epoch [210/500], KD Loss: 0.6120\n",
            "Epoch [220/500], KD Loss: 0.5912\n",
            "Epoch [230/500], KD Loss: 0.5743\n",
            "Epoch [240/500], KD Loss: 0.5599\n",
            "Epoch [250/500], KD Loss: 0.5471\n",
            "Epoch [260/500], KD Loss: 0.5355\n",
            "Epoch [270/500], KD Loss: 0.5245\n",
            "Epoch [280/500], KD Loss: 0.5139\n",
            "Epoch [290/500], KD Loss: 0.5032\n",
            "Epoch [300/500], KD Loss: 0.4908\n",
            "Epoch [310/500], KD Loss: 0.4781\n",
            "Epoch [320/500], KD Loss: 0.4665\n",
            "Epoch [330/500], KD Loss: 0.4549\n",
            "Epoch [340/500], KD Loss: 0.4438\n",
            "Epoch [350/500], KD Loss: 0.4331\n",
            "Epoch [360/500], KD Loss: 0.4232\n",
            "Epoch [370/500], KD Loss: 0.4140\n",
            "Epoch [380/500], KD Loss: 0.4053\n",
            "Epoch [390/500], KD Loss: 0.3972\n",
            "Epoch [400/500], KD Loss: 0.3898\n",
            "Epoch [410/500], KD Loss: 0.3829\n",
            "Epoch [420/500], KD Loss: 0.3765\n",
            "Epoch [430/500], KD Loss: 0.3707\n",
            "Epoch [440/500], KD Loss: 0.3653\n",
            "Epoch [450/500], KD Loss: 0.3603\n",
            "Epoch [460/500], KD Loss: 0.3557\n",
            "Epoch [470/500], KD Loss: 0.3515\n",
            "Epoch [480/500], KD Loss: 0.3476\n",
            "Epoch [490/500], KD Loss: 0.3440\n",
            "Epoch [500/500], KD Loss: 0.3407\n"
          ]
        }
      ]
    },
    {
      "cell_type": "markdown",
      "source": [
        "# Person Model"
      ],
      "metadata": {
        "id": "TFNAod_7YMAy"
      }
    },
    {
      "cell_type": "code",
      "source": [
        "# Person Model (same architecture as Student, trained directly)\n",
        "class HousePerson(nn.Module):\n",
        "    def __init__(self):\n",
        "        super(HousePerson, self).__init__()\n",
        "        self.fc1 = nn.Linear(8, 16)\n",
        "        self.fc2 = nn.Linear(16, 8)\n",
        "        self.fc3 = nn.Linear(8, 1)\n",
        "\n",
        "    def forward(self, x):\n",
        "        x = F.relu(self.fc1(x))\n",
        "        x = F.relu(self.fc2(x))\n",
        "        x = self.fc3(x)\n",
        "        return x\n",
        "\n",
        "person = HousePerson()\n",
        "optimizer_p = optim.Adam(person.parameters(), lr=0.001)\n",
        "\n",
        "for epoch in range(epochs):\n",
        "    person.train()\n",
        "    optimizer_p.zero_grad()\n",
        "    outputs = person(xTrain)\n",
        "    loss = criterion(outputs, yTrain)\n",
        "    loss.backward()\n",
        "    optimizer_p.step()\n",
        "\n",
        "    if (epoch + 1) % 10 == 0:\n",
        "        print(f\"Epoch [{epoch+1}/{epochs}], Person Loss: {loss.item():.4f}\")\n",
        "\n"
      ],
      "metadata": {
        "colab": {
          "base_uri": "https://localhost:8080/"
        },
        "id": "CjmX0sp9YOvL",
        "outputId": "4390d4cd-402f-4272-e1b8-5a5eb1967af8"
      },
      "execution_count": 11,
      "outputs": [
        {
          "output_type": "stream",
          "name": "stdout",
          "text": [
            "Epoch [10/500], Person Loss: 5.0393\n",
            "Epoch [20/500], Person Loss: 4.7923\n",
            "Epoch [30/500], Person Loss: 4.5488\n",
            "Epoch [40/500], Person Loss: 4.2977\n",
            "Epoch [50/500], Person Loss: 4.0300\n",
            "Epoch [60/500], Person Loss: 3.7399\n",
            "Epoch [70/500], Person Loss: 3.4301\n",
            "Epoch [80/500], Person Loss: 3.1093\n",
            "Epoch [90/500], Person Loss: 2.7824\n",
            "Epoch [100/500], Person Loss: 2.4559\n",
            "Epoch [110/500], Person Loss: 2.1395\n",
            "Epoch [120/500], Person Loss: 1.8447\n",
            "Epoch [130/500], Person Loss: 1.5829\n",
            "Epoch [140/500], Person Loss: 1.3637\n",
            "Epoch [150/500], Person Loss: 1.1914\n",
            "Epoch [160/500], Person Loss: 1.0646\n",
            "Epoch [170/500], Person Loss: 0.9764\n",
            "Epoch [180/500], Person Loss: 0.9163\n",
            "Epoch [190/500], Person Loss: 0.8737\n",
            "Epoch [200/500], Person Loss: 0.8422\n",
            "Epoch [210/500], Person Loss: 0.8180\n",
            "Epoch [220/500], Person Loss: 0.7982\n",
            "Epoch [230/500], Person Loss: 0.7812\n",
            "Epoch [240/500], Person Loss: 0.7660\n",
            "Epoch [250/500], Person Loss: 0.7517\n",
            "Epoch [260/500], Person Loss: 0.7378\n",
            "Epoch [270/500], Person Loss: 0.7241\n",
            "Epoch [280/500], Person Loss: 0.7110\n",
            "Epoch [290/500], Person Loss: 0.6984\n",
            "Epoch [300/500], Person Loss: 0.6860\n",
            "Epoch [310/500], Person Loss: 0.6739\n",
            "Epoch [320/500], Person Loss: 0.6620\n",
            "Epoch [330/500], Person Loss: 0.6499\n",
            "Epoch [340/500], Person Loss: 0.6378\n",
            "Epoch [350/500], Person Loss: 0.6257\n",
            "Epoch [360/500], Person Loss: 0.6138\n",
            "Epoch [370/500], Person Loss: 0.6023\n",
            "Epoch [380/500], Person Loss: 0.5909\n",
            "Epoch [390/500], Person Loss: 0.5799\n",
            "Epoch [400/500], Person Loss: 0.5690\n",
            "Epoch [410/500], Person Loss: 0.5584\n",
            "Epoch [420/500], Person Loss: 0.5481\n",
            "Epoch [430/500], Person Loss: 0.5382\n",
            "Epoch [440/500], Person Loss: 0.5284\n",
            "Epoch [450/500], Person Loss: 0.5189\n",
            "Epoch [460/500], Person Loss: 0.5095\n",
            "Epoch [470/500], Person Loss: 0.5002\n",
            "Epoch [480/500], Person Loss: 0.4912\n",
            "Epoch [490/500], Person Loss: 0.4826\n",
            "Epoch [500/500], Person Loss: 0.4745\n"
          ]
        }
      ]
    },
    {
      "cell_type": "markdown",
      "source": [
        "# Evaluation Functions"
      ],
      "metadata": {
        "id": "iqIwvEhYYCmR"
      }
    },
    {
      "cell_type": "code",
      "source": [
        "def evaluate_rmse(model, xTest, yTest):\n",
        "    model.eval()\n",
        "    with torch.no_grad():\n",
        "        y_pred = model(xTest)\n",
        "        mse = F.mse_loss(y_pred, yTest)\n",
        "        rmse = torch.sqrt(mse).item()\n",
        "    return rmse\n",
        "\n",
        "def evaluate_inference_time(model, xTest):\n",
        "    model.eval()\n",
        "    with torch.no_grad():\n",
        "        start_time = time.time()\n",
        "        _ = model(xTest)\n",
        "        end_time = time.time()\n",
        "    elapsed_time = end_time - start_time\n",
        "    avg_time = elapsed_time / xTest.size(0)\n",
        "    return elapsed_time, avg_time\n",
        "\n",
        "def evaluate_model_size(model):\n",
        "    num_params = sum(p.numel() for p in model.parameters() if p.requires_grad)\n",
        "    param_size_MB = num_params * 4 / (1024**2)\n",
        "    return num_params, param_size_MB"
      ],
      "metadata": {
        "id": "fYv2wb6dYCCg"
      },
      "execution_count": 12,
      "outputs": []
    },
    {
      "cell_type": "markdown",
      "source": [
        "# Evalautions and Output Direct"
      ],
      "metadata": {
        "id": "sT3uR5V6X9IW"
      }
    },
    {
      "cell_type": "code",
      "source": [
        "# Evaluate\n",
        "teacher_rmse = evaluate_rmse(teacher, xTest, yTest)\n",
        "teacher_time, teacher_avg_time = evaluate_inference_time(teacher, xTest)\n",
        "teacher_params, teacher_size = evaluate_model_size(teacher)\n",
        "\n",
        "student_rmse = evaluate_rmse(student, xTest, yTest)\n",
        "student_time, student_avg_time = evaluate_inference_time(student, xTest)\n",
        "student_params, student_size = evaluate_model_size(student)\n",
        "\n",
        "person_rmse = evaluate_rmse(person, xTest, yTest)\n",
        "person_time, person_avg_time = evaluate_inference_time(person, xTest)\n",
        "person_params, person_size = evaluate_model_size(person)\n",
        "\n",
        "# Teacher stats\n",
        "print(f\"Teacher RMSE: {teacher_rmse:.4f}\")\n",
        "print(f\"Teacher Inference Time: {teacher_time:.6f}s ({teacher_avg_time:.6f}s per sample)\")\n",
        "print(f\"Teacher Params: {teacher_params}, Size: {teacher_size:.6f} MB\")\n",
        "\n",
        "# Student stats\n",
        "print(f\"Student RMSE: {student_rmse:.4f}\")\n",
        "print(f\"Student Inference Time: {student_time:.6f}s ({student_avg_time:.6f}s per sample)\")\n",
        "print(f\"Student Params: {student_params}, Size: {student_size:.6f} MB\")\n",
        "\n",
        "# Person stats\n",
        "print(f\"Person RMSE: {person_rmse:.4f}\")\n",
        "print(f\"Person Inference Time: {person_time:.6f}s ({person_avg_time:.6f}s per sample)\")\n",
        "print(f\"Person Params: {person_params}, Size: {person_size:.6f} MB\")\n"
      ],
      "metadata": {
        "colab": {
          "base_uri": "https://localhost:8080/"
        },
        "id": "QFcN95v1X22U",
        "outputId": "147b0408-5b15-43a7-ab9b-fc445db7db93"
      },
      "execution_count": 13,
      "outputs": [
        {
          "output_type": "stream",
          "name": "stdout",
          "text": [
            "Teacher RMSE: 0.5270\n",
            "Teacher Inference Time: 0.033269s (0.000008s per sample)\n",
            "Teacher Params: 179201, Size: 0.683598 MB\n",
            "Student RMSE: 0.6942\n",
            "Student Inference Time: 0.000320s (0.000000s per sample)\n",
            "Student Params: 289, Size: 0.001102 MB\n",
            "Person RMSE: 0.6974\n",
            "Person Inference Time: 0.000436s (0.000000s per sample)\n",
            "Person Params: 289, Size: 0.001102 MB\n"
          ]
        }
      ]
    },
    {
      "cell_type": "markdown",
      "source": [
        "# Results Percentage Comparisms"
      ],
      "metadata": {
        "id": "rnJyw4Ej4EGM"
      }
    },
    {
      "cell_type": "code",
      "source": [
        "# Student vs Teacher percentages\n",
        "def percent_change(student_val, teacher_val):\n",
        "    return ((student_val - teacher_val) / teacher_val) * 100 if teacher_val != 0 else float('inf')\n",
        "\n",
        "print(\"\\n--- Percentage Change (Student vs Teacher) ---\")\n",
        "print(f\"RMSE Change: {percent_change(student_rmse, teacher_rmse):.2f}%\")\n",
        "print(f\"Total Inference Time Change: {percent_change(student_time, teacher_time):.2f}%\")\n",
        "print(f\"Avg Inference Time per Sample Change: {percent_change(student_avg_time, teacher_avg_time):.2f}%\")\n",
        "print(f\"Params Change: {percent_change(student_params, teacher_params):.2f}%\")\n",
        "print(f\"Model Size Change: {percent_change(student_size, teacher_size):.2f}%\")\n",
        "\n",
        "# Person vs Teacher percentages\n",
        "print(\"\\n--- Percentage Change (Person vs Teacher) ---\")\n",
        "print(f\"RMSE Change: {percent_change(person_rmse, teacher_rmse):.2f}%\")\n",
        "print(f\"Total Inference Time Change: {percent_change(person_time, teacher_time):.2f}%\")\n",
        "print(f\"Avg Inference Time per Sample Change: {percent_change(person_avg_time, teacher_avg_time):.2f}%\")\n",
        "print(f\"Params Change: {percent_change(person_params, teacher_params):.2f}%\")\n",
        "print(f\"Model Size Change: {percent_change(person_size, teacher_size):.2f}%\")"
      ],
      "metadata": {
        "id": "ud3FMuE44LVj",
        "outputId": "e51e5cb2-3e4b-42f8-dd54-4cbdc10a4fba",
        "colab": {
          "base_uri": "https://localhost:8080/"
        }
      },
      "execution_count": 14,
      "outputs": [
        {
          "output_type": "stream",
          "name": "stdout",
          "text": [
            "\n",
            "--- Percentage Change (Student vs Teacher) ---\n",
            "RMSE Change: 31.73%\n",
            "Total Inference Time Change: -99.04%\n",
            "Avg Inference Time per Sample Change: -99.04%\n",
            "Params Change: -99.84%\n",
            "Model Size Change: -99.84%\n",
            "\n",
            "--- Percentage Change (Person vs Teacher) ---\n",
            "RMSE Change: 32.34%\n",
            "Total Inference Time Change: -98.69%\n",
            "Avg Inference Time per Sample Change: -98.69%\n",
            "Params Change: -99.84%\n",
            "Model Size Change: -99.84%\n"
          ]
        }
      ]
    }
  ]
}