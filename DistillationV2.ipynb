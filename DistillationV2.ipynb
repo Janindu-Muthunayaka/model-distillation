{
  "nbformat": 4,
  "nbformat_minor": 0,
  "metadata": {
    "colab": {
      "provenance": [],
      "toc_visible": true,
      "authorship_tag": "ABX9TyOJ7sZpmNu1X/cjlv3KSFgU",
      "include_colab_link": true
    },
    "kernelspec": {
      "name": "python3",
      "display_name": "Python 3"
    },
    "language_info": {
      "name": "python"
    }
  },
  "cells": [
    {
      "cell_type": "markdown",
      "metadata": {
        "id": "view-in-github",
        "colab_type": "text"
      },
      "source": [
        "<a href=\"https://colab.research.google.com/github/Janindu-Muthunayaka/model-distillation/blob/main/DistillationV2.ipynb\" target=\"_parent\"><img src=\"https://colab.research.google.com/assets/colab-badge.svg\" alt=\"Open In Colab\"/></a>"
      ]
    },
    {
      "cell_type": "markdown",
      "source": [
        "Packages"
      ],
      "metadata": {
        "id": "kJimzcW_ebr6"
      }
    },
    {
      "cell_type": "markdown",
      "source": [
        "# Data Preparation"
      ],
      "metadata": {
        "id": "PLiLPYRsg9O2"
      }
    },
    {
      "cell_type": "code",
      "execution_count": 16,
      "metadata": {
        "id": "biR16B5iIDg8",
        "colab": {
          "base_uri": "https://localhost:8080/"
        },
        "outputId": "c0893398-c89b-4f96-b145-8164138984d5"
      },
      "outputs": [
        {
          "output_type": "stream",
          "name": "stdout",
          "text": [
            "Requirement already satisfied: numpy in /usr/local/lib/python3.12/dist-packages (2.0.2)\n",
            "Requirement already satisfied: pandas in /usr/local/lib/python3.12/dist-packages (2.2.2)\n",
            "Requirement already satisfied: scikit-learn in /usr/local/lib/python3.12/dist-packages (1.6.1)\n",
            "Requirement already satisfied: torch in /usr/local/lib/python3.12/dist-packages (2.8.0+cu126)\n",
            "Requirement already satisfied: python-dateutil>=2.8.2 in /usr/local/lib/python3.12/dist-packages (from pandas) (2.9.0.post0)\n",
            "Requirement already satisfied: pytz>=2020.1 in /usr/local/lib/python3.12/dist-packages (from pandas) (2025.2)\n",
            "Requirement already satisfied: tzdata>=2022.7 in /usr/local/lib/python3.12/dist-packages (from pandas) (2025.2)\n",
            "Requirement already satisfied: scipy>=1.6.0 in /usr/local/lib/python3.12/dist-packages (from scikit-learn) (1.16.1)\n",
            "Requirement already satisfied: joblib>=1.2.0 in /usr/local/lib/python3.12/dist-packages (from scikit-learn) (1.5.1)\n",
            "Requirement already satisfied: threadpoolctl>=3.1.0 in /usr/local/lib/python3.12/dist-packages (from scikit-learn) (3.6.0)\n",
            "Requirement already satisfied: filelock in /usr/local/lib/python3.12/dist-packages (from torch) (3.19.1)\n",
            "Requirement already satisfied: typing-extensions>=4.10.0 in /usr/local/lib/python3.12/dist-packages (from torch) (4.15.0)\n",
            "Requirement already satisfied: setuptools in /usr/local/lib/python3.12/dist-packages (from torch) (75.2.0)\n",
            "Requirement already satisfied: sympy>=1.13.3 in /usr/local/lib/python3.12/dist-packages (from torch) (1.13.3)\n",
            "Requirement already satisfied: networkx in /usr/local/lib/python3.12/dist-packages (from torch) (3.5)\n",
            "Requirement already satisfied: jinja2 in /usr/local/lib/python3.12/dist-packages (from torch) (3.1.6)\n",
            "Requirement already satisfied: fsspec in /usr/local/lib/python3.12/dist-packages (from torch) (2025.3.0)\n",
            "Requirement already satisfied: nvidia-cuda-nvrtc-cu12==12.6.77 in /usr/local/lib/python3.12/dist-packages (from torch) (12.6.77)\n",
            "Requirement already satisfied: nvidia-cuda-runtime-cu12==12.6.77 in /usr/local/lib/python3.12/dist-packages (from torch) (12.6.77)\n",
            "Requirement already satisfied: nvidia-cuda-cupti-cu12==12.6.80 in /usr/local/lib/python3.12/dist-packages (from torch) (12.6.80)\n",
            "Requirement already satisfied: nvidia-cudnn-cu12==9.10.2.21 in /usr/local/lib/python3.12/dist-packages (from torch) (9.10.2.21)\n",
            "Requirement already satisfied: nvidia-cublas-cu12==12.6.4.1 in /usr/local/lib/python3.12/dist-packages (from torch) (12.6.4.1)\n",
            "Requirement already satisfied: nvidia-cufft-cu12==11.3.0.4 in /usr/local/lib/python3.12/dist-packages (from torch) (11.3.0.4)\n",
            "Requirement already satisfied: nvidia-curand-cu12==10.3.7.77 in /usr/local/lib/python3.12/dist-packages (from torch) (10.3.7.77)\n",
            "Requirement already satisfied: nvidia-cusolver-cu12==11.7.1.2 in /usr/local/lib/python3.12/dist-packages (from torch) (11.7.1.2)\n",
            "Requirement already satisfied: nvidia-cusparse-cu12==12.5.4.2 in /usr/local/lib/python3.12/dist-packages (from torch) (12.5.4.2)\n",
            "Requirement already satisfied: nvidia-cusparselt-cu12==0.7.1 in /usr/local/lib/python3.12/dist-packages (from torch) (0.7.1)\n",
            "Requirement already satisfied: nvidia-nccl-cu12==2.27.3 in /usr/local/lib/python3.12/dist-packages (from torch) (2.27.3)\n",
            "Requirement already satisfied: nvidia-nvtx-cu12==12.6.77 in /usr/local/lib/python3.12/dist-packages (from torch) (12.6.77)\n",
            "Requirement already satisfied: nvidia-nvjitlink-cu12==12.6.85 in /usr/local/lib/python3.12/dist-packages (from torch) (12.6.85)\n",
            "Requirement already satisfied: nvidia-cufile-cu12==1.11.1.6 in /usr/local/lib/python3.12/dist-packages (from torch) (1.11.1.6)\n",
            "Requirement already satisfied: triton==3.4.0 in /usr/local/lib/python3.12/dist-packages (from torch) (3.4.0)\n",
            "Requirement already satisfied: six>=1.5 in /usr/local/lib/python3.12/dist-packages (from python-dateutil>=2.8.2->pandas) (1.17.0)\n",
            "Requirement already satisfied: mpmath<1.4,>=1.1.0 in /usr/local/lib/python3.12/dist-packages (from sympy>=1.13.3->torch) (1.3.0)\n",
            "Requirement already satisfied: MarkupSafe>=2.0 in /usr/local/lib/python3.12/dist-packages (from jinja2->torch) (3.0.2)\n"
          ]
        }
      ],
      "source": [
        "!pip install numpy pandas scikit-learn torch\n"
      ]
    },
    {
      "cell_type": "markdown",
      "source": [
        "DataSets (Wine for Classification California Housing for Regression)"
      ],
      "metadata": {
        "id": "tW760odyegm7"
      }
    },
    {
      "cell_type": "code",
      "source": [
        "from sklearn.datasets import load_wine,fetch_california_housing\n",
        "\n",
        "#classification  - Wine for type of wine (0,1,2)\n",
        "wine=load_wine(as_frame=True)\n",
        "X_Wine=wine.data\n",
        "Y_Wine=wine.target\n",
        "\n",
        "#Scaling\n",
        "\n",
        "from sklearn.preprocessing import StandardScaler\n",
        "\n",
        "wineScaler=StandardScaler()\n",
        "XWineScaled=wineScaler.fit_transform(X_Wine)\n",
        "\n"
      ],
      "metadata": {
        "id": "shV6ohQYeyBP"
      },
      "execution_count": 17,
      "outputs": []
    },
    {
      "cell_type": "markdown",
      "source": [
        "Teacher MLP Creation\n"
      ],
      "metadata": {
        "id": "adyNSUrWhQSw"
      }
    },
    {
      "cell_type": "markdown",
      "source": [
        "Going to create a fresh teacher MLP"
      ],
      "metadata": {
        "id": "m8nVZxjRhc0t"
      }
    },
    {
      "cell_type": "code",
      "source": [
        "import torch\n",
        "import torch.nn as nn\n",
        "import torch.nn.functional as F"
      ],
      "metadata": {
        "id": "wJLLM0WHhsa3"
      },
      "execution_count": 18,
      "outputs": []
    },
    {
      "cell_type": "code",
      "source": [
        "class wineTeacher(nn.Module):\n",
        "  def __init__(self):\n",
        "    super(wineTeacher,self).__init__()\n",
        "    self.fc1=nn.Linear(13,64)\n",
        "    self.fc2=nn.Linear(64,32)\n",
        "    self.fc3=nn.Linear(32,16)\n",
        "    self.fc4=nn.Linear(16,8)\n",
        "    self.fc5=nn.Linear(8,3)\n",
        "\n",
        "  def forward(self,x):\n",
        "    x=F.relu(self.fc1(x))\n",
        "    x=F.relu(self.fc2(x))\n",
        "    x=F.relu(self.fc3(x))\n",
        "    x=F.relu(self.fc4(x))\n",
        "    x=self.fc5(x)\n",
        "    return x"
      ],
      "metadata": {
        "id": "pE7d-z0iiFj8"
      },
      "execution_count": 22,
      "outputs": []
    },
    {
      "cell_type": "markdown",
      "source": [
        "#Student MLP Creation\n"
      ],
      "metadata": {
        "id": "vkUPzj8nj_Li"
      }
    },
    {
      "cell_type": "markdown",
      "source": [
        "Going to Create fresh Student MLP"
      ],
      "metadata": {
        "id": "Y1dNfyOEkUMl"
      }
    },
    {
      "cell_type": "code",
      "source": [
        "class wineStudent(nn.Module):\n",
        "  def __init__(self):\n",
        "    super(wineStudent,self).__init__()\n",
        "    self.fc1=nn.Linear(13,16)\n",
        "    self.fc2=nn.Linear(16,8)\n",
        "    self.fc3=nn.Linear(8,3)\n",
        "\n",
        "  def forward(self,x):\n",
        "    x=F.relu(self.fc1(x))\n",
        "    x=F.relu(self.fc2(x))\n",
        "    x=self.fc3(x)\n",
        "    return x"
      ],
      "metadata": {
        "id": "mIzFcNbXkXuS"
      },
      "execution_count": 23,
      "outputs": []
    },
    {
      "cell_type": "markdown",
      "source": [
        "# Data Preparation for PyTorch"
      ],
      "metadata": {
        "id": "fqgZxCMcn3pd"
      }
    },
    {
      "cell_type": "code",
      "source": [
        "import torch\n",
        "from sklearn.model_selection import train_test_split\n",
        "from sklearn.preprocessing import StandardScaler\n",
        "\n",
        "#split\n",
        "xTrain,xTest,yTrain,yTest=train_test_split(XWineScaled,Y_Wine,test_size=0.2,random_state=42)\n",
        "\n",
        "#scaling\n",
        "scaler=StandardScaler()\n",
        "xTrain=scaler.fit_transform(xTrain)\n",
        "xTest=scaler.transform(xTest)\n",
        "\n",
        "#convert top Pytorch tensors\n",
        "xTrain=torch.tensor(xTrain,dtype=torch.float32)\n",
        "yTrain=torch.tensor(yTrain.values,dtype=torch.long)\n",
        "xTest=torch.tensor(xTest,dtype=torch.float32)\n",
        "yTest=torch.tensor(yTest.values,dtype=torch.long)\n",
        "\n",
        "\n",
        "\n",
        "\n"
      ],
      "metadata": {
        "id": "jJ6jIDXnob_I"
      },
      "execution_count": 25,
      "outputs": []
    },
    {
      "cell_type": "markdown",
      "source": [
        "# Training"
      ],
      "metadata": {
        "id": "4QymBk_g5S16"
      }
    },
    {
      "cell_type": "markdown",
      "source": [
        "Training Loop\n"
      ],
      "metadata": {
        "id": "H2B2etf62JrI"
      }
    },
    {
      "cell_type": "code",
      "source": [
        "import torch.optim as optim\n",
        "\n",
        "teacher = wineTeacher()  # teacher model\n",
        "criterion = nn.CrossEntropyLoss()  # classification loss\n",
        "optimizer = optim.Adam(teacher.parameters(), lr=0.001)\n",
        "epochs = 50  # REMINDER -CHANGE\n",
        "\n",
        "for epoch in range(epochs):\n",
        "    teacher.train()\n",
        "    optimizer.zero_grad()\n",
        "    outputs = teacher(xTrain)\n",
        "    loss = criterion(outputs, yTrain)\n",
        "    loss.backward()\n",
        "    optimizer.step()\n",
        "\n",
        "    if (epoch+1) % 10 == 0:#print only every 10 eopich for cleaness\n",
        "        print(f'Epoch [{epoch+1}/{epochs}], Loss: {loss.item():.4f}')\n"
      ],
      "metadata": {
        "colab": {
          "base_uri": "https://localhost:8080/"
        },
        "id": "mpgYt_L72Oma",
        "outputId": "7293120f-08a2-48de-ef8e-14e71218963d"
      },
      "execution_count": 26,
      "outputs": [
        {
          "output_type": "stream",
          "name": "stdout",
          "text": [
            "Epoch [10/50], Loss: 1.1006\n",
            "Epoch [20/50], Loss: 1.0649\n",
            "Epoch [30/50], Loss: 1.0036\n",
            "Epoch [40/50], Loss: 0.8885\n",
            "Epoch [50/50], Loss: 0.7001\n"
          ]
        }
      ]
    },
    {
      "cell_type": "markdown",
      "source": [
        "# Testing"
      ],
      "metadata": {
        "id": "NmlD6Nng5MZf"
      }
    },
    {
      "cell_type": "markdown",
      "source": [
        "Accuracy"
      ],
      "metadata": {
        "id": "yVAHBWTk2gHA"
      }
    },
    {
      "cell_type": "code",
      "source": [
        "teacher.eval()\n",
        "with torch.no_grad():\n",
        "    y_pred = teacher(xTest)\n",
        "    predicted_classes = torch.argmax(y_pred, dim=1)\n",
        "    accuracy = (predicted_classes == yTest).float().mean()\n",
        "    print(f'Teacher Accuracy: {accuracy:.4f}')\n"
      ],
      "metadata": {
        "colab": {
          "base_uri": "https://localhost:8080/"
        },
        "id": "7eoQZagm2i_1",
        "outputId": "bb09ddbd-c24d-4751-dd78-a1aa83eaf43a"
      },
      "execution_count": 27,
      "outputs": [
        {
          "output_type": "stream",
          "name": "stdout",
          "text": [
            "Teacher Accuracy: 0.9444\n"
          ]
        }
      ]
    },
    {
      "cell_type": "markdown",
      "source": [
        "Inference Time"
      ],
      "metadata": {
        "id": "-YpjN7oQ5GgL"
      }
    },
    {
      "cell_type": "code",
      "source": [
        "import torch\n",
        "import time\n",
        "\n",
        "teacher.eval()\n",
        "with torch.no_grad():\n",
        "    start_time = time.time()\n",
        "    y_pred = teacher(xTest)\n",
        "    end_time = time.time()\n",
        "\n",
        "elapsed_time = end_time - start_time\n",
        "print(f\"Inference time for {xTest.size(0)} samples: {elapsed_time:.6f} seconds\")\n",
        "print(f\"Average time per sample: {elapsed_time / xTest.size(0):.6f} seconds\")\n"
      ],
      "metadata": {
        "id": "uHVdXscx4fcL",
        "outputId": "7f2896a8-d9d1-4247-ba27-719ce14b8098",
        "colab": {
          "base_uri": "https://localhost:8080/"
        }
      },
      "execution_count": 28,
      "outputs": [
        {
          "output_type": "stream",
          "name": "stdout",
          "text": [
            "Inference time for 36 samples: 0.004379 seconds\n",
            "Average time per sample: 0.000122 seconds\n"
          ]
        }
      ]
    },
    {
      "cell_type": "markdown",
      "source": [
        "Memory Size"
      ],
      "metadata": {
        "id": "DWNckIMF5Ao4"
      }
    },
    {
      "cell_type": "code",
      "source": [
        "# Number of trainable parameters\n",
        "num_params = sum(p.numel() for p in teacher.parameters() if p.requires_grad)\n",
        "print(f\"Number of trainable parameters: {num_params}\")\n",
        "\n",
        "# Approximate size in MB (assuming 32-bit float)\n",
        "param_size_MB = num_params * 4 / (1024**2)  # 4 bytes per float32\n",
        "print(f\"Approximate model size: {param_size_MB:.6f} MB\")\n"
      ],
      "metadata": {
        "id": "wdvtC98s40g6",
        "outputId": "2c1b6358-43df-4518-cd5a-e806408047bd",
        "colab": {
          "base_uri": "https://localhost:8080/"
        }
      },
      "execution_count": 32,
      "outputs": [
        {
          "output_type": "stream",
          "name": "stdout",
          "text": [
            "Number of trainable parameters: 3667\n",
            "Approximate model size: 0.013988 MB\n"
          ]
        }
      ]
    }
  ]
}