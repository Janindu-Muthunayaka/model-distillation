{
  "nbformat": 4,
  "nbformat_minor": 0,
  "metadata": {
    "colab": {
      "provenance": [],
      "authorship_tag": "ABX9TyNELZIHhTFH/Sma55J6w15j",
      "include_colab_link": true
    },
    "kernelspec": {
      "name": "python3",
      "display_name": "Python 3"
    },
    "language_info": {
      "name": "python"
    }
  },
  "cells": [
    {
      "cell_type": "markdown",
      "metadata": {
        "id": "view-in-github",
        "colab_type": "text"
      },
      "source": [
        "<a href=\"https://colab.research.google.com/github/Janindu-Muthunayaka/model-distillation/blob/main/Classificationv2.ipynb\" target=\"_parent\"><img src=\"https://colab.research.google.com/assets/colab-badge.svg\" alt=\"Open In Colab\"/></a>"
      ]
    },
    {
      "cell_type": "markdown",
      "source": [
        "# Imports"
      ],
      "metadata": {
        "id": "V3Q684D8hMst"
      }
    },
    {
      "cell_type": "code",
      "source": [
        "# Commented out IPython magic to ensure Python compatibility.\n",
        "# %pip install numpy pandas scikit-learn torch torchvision\n",
        "\n",
        "import torch\n",
        "import numpy as np\n",
        "import random\n",
        "\n",
        "seed = 42\n",
        "random.seed(seed)\n",
        "np.random.seed(seed)\n",
        "torch.manual_seed(seed)\n",
        "\n",
        "# If using GPU\n",
        "torch.cuda.manual_seed(seed)\n",
        "torch.backends.cudnn.deterministic = True\n",
        "torch.backends.cudnn.benchmark = False\n",
        "\n",
        "\n",
        "\n",
        "epochs=20\n",
        "\n",
        "import torchvision.datasets as datasets\n",
        "import torchvision.transforms as transforms"
      ],
      "metadata": {
        "id": "-PIjyow_hIrj"
      },
      "execution_count": null,
      "outputs": []
    },
    {
      "cell_type": "markdown",
      "source": [
        "#Dataset & Preparation"
      ],
      "metadata": {
        "id": "tXa7U62zhQZ5"
      }
    },
    {
      "cell_type": "code",
      "source": [
        "# Download and load MNIST dataset\n",
        "transform = transforms.ToTensor()\n",
        "\n",
        "train_data = datasets.MNIST(root='./data', train=True, download=True, transform=transform)\n",
        "test_data = datasets.MNIST(root='./data', train=False, download=True, transform=transform)\n",
        "\n",
        "# Flatten and normalize\n",
        "xTrain = train_data.data.view(-1, 784).float() / 255.0\n",
        "yTrain = train_data.targets\n",
        "xTest = test_data.data.view(-1, 784).float() / 255.0\n",
        "yTest = test_data.targets\n"
      ],
      "metadata": {
        "id": "fM0IMfcahYng"
      },
      "execution_count": null,
      "outputs": []
    },
    {
      "cell_type": "markdown",
      "source": [
        "# Data Preparation for PyTorch"
      ],
      "metadata": {
        "id": "jeJeBxsQhdB8"
      }
    },
    {
      "cell_type": "code",
      "source": [
        "import torch\n",
        "from torch.utils.data import TensorDataset, DataLoader\n",
        "\n",
        "# No need for train_test_split since MNIST already split as well as no scaling needed as normalized to [0,1]\n",
        "\n",
        "# Already converted to PyTorch tensors and just need to create TensorDatasets\n",
        "\n",
        "train_dataset = TensorDataset(xTrain, yTrain)\n",
        "test_dataset = TensorDataset(xTest, yTest)\n",
        "\n",
        "# Create DataLoaders\n",
        "batch_size = 128  # Increased batch size for efficiency\n",
        "train_loader = DataLoader(\n",
        "    train_dataset,\n",
        "    batch_size=batch_size,\n",
        "    shuffle=True,\n",
        "    generator=torch.Generator().manual_seed(seed) # Use the defined seed\n",
        ")\n",
        "\n",
        "test_loader = DataLoader(\n",
        "    test_dataset,\n",
        "    batch_size=batch_size,\n",
        "    shuffle=False # No need to shuffle test data\n",
        ")"
      ],
      "metadata": {
        "id": "jtIZMPLhhbm_"
      },
      "execution_count": null,
      "outputs": []
    },
    {
      "cell_type": "markdown",
      "source": [
        "#Teacher Creation\n"
      ],
      "metadata": {
        "id": "9hZo9hIyhjQ3"
      }
    },
    {
      "cell_type": "code",
      "source": [
        "import torch\n",
        "import torch.nn as nn\n",
        "import torch.nn.functional as F\n",
        "\n",
        "class mnistTeacher(nn.Module):\n",
        "  def __init__(self):\n",
        "    super(mnistTeacher,self).__init__()\n",
        "    self.fc1=nn.Linear(784,1024)\n",
        "    self.fc2=nn.Linear(1024,512)\n",
        "    self.fc3=nn.Linear(512,256)\n",
        "    self.fc4=nn.Linear(256,128)\n",
        "    self.fc5=nn.Linear(128,64)\n",
        "    self.fc6=nn.Linear(64,10)\n",
        "\n",
        "  def forward(self,x):\n",
        "    x=F.relu(self.fc1(x))\n",
        "    x=F.relu(self.fc2(x))\n",
        "    x=F.relu(self.fc3(x))\n",
        "    x=F.relu(self.fc4(x))\n",
        "    x=F.relu(self.fc5(x))\n",
        "    x=self.fc6(x)\n",
        "    return x\n",
        "\n",
        "\n",
        "\n",
        "import torch.optim as optim\n",
        "\n",
        "teacher = mnistTeacher()  # teacher model\n",
        "criterion = nn.CrossEntropyLoss()  # classification loss\n",
        "optimizer = optim.Adam(teacher.parameters(), lr=0.001)\n",
        "#epochs = already declare\n",
        "\n",
        "for epoch in range(epochs):\n",
        "    teacher.train()\n",
        "    running_loss = 0.0\n",
        "    for inputs, labels in train_loader:\n",
        "        optimizer.zero_grad()\n",
        "        outputs = teacher(inputs)\n",
        "        loss = criterion(outputs, labels)\n",
        "        loss.backward()\n",
        "        optimizer.step()\n",
        "        running_loss += loss.item()\n",
        "\n",
        "    if (epoch+1) % 5 == 0:  # Print every 5 epochs for cleanliness\n",
        "        print(f'Epoch [{epoch+1}/{epochs}], Loss: {running_loss / len(train_loader):.4f}')\n"
      ],
      "metadata": {
        "id": "ucIQN-SfhoLt"
      },
      "execution_count": null,
      "outputs": []
    },
    {
      "cell_type": "markdown",
      "source": [
        "# Creating & Training 'Student'  on Knowledge Distillation"
      ],
      "metadata": {
        "id": "-IL_O9XUhrV-"
      }
    },
    {
      "cell_type": "code",
      "source": [
        "class mnistStudent(nn.Module):\n",
        "  def __init__(self):\n",
        "    super(mnistStudent,self).__init__()\n",
        "    self.fc1=nn.Linear(784,128)\n",
        "    self.fc2=nn.Linear(128,64)\n",
        "    self.fc3=nn.Linear(64,10)\n",
        "\n",
        "  def forward(self,x):\n",
        "    x=F.relu(self.fc1(x))\n",
        "    x=F.relu(self.fc2(x))\n",
        "    x=self.fc3(x)\n",
        "    return x\n",
        "\n",
        "\n",
        "def distillation_loss(student_logits, teacher_logits, labels, T=2.0, alpha=0.5):\n",
        "    # Hard loss: student vs true labels\n",
        "    hard_loss = F.cross_entropy(student_logits, labels)\n",
        "\n",
        "    # Soft loss: student vs teacher (using softmax with temperature)\n",
        "    soft_student = F.log_softmax(student_logits / T, dim=1)\n",
        "    soft_teacher = F.softmax(teacher_logits / T, dim=1)\n",
        "    soft_loss = F.kl_div(soft_student, soft_teacher, reduction=\"batchmean\") * (T * T)\n",
        "\n",
        "    # Weighted sum\n",
        "    return alpha * hard_loss + (1 - alpha) * soft_loss\n",
        "\n",
        "#Training Student\"\n",
        "\n",
        "\n",
        "student = mnistStudent()\n",
        "optimizer_s = optim.Adam(student.parameters(), lr=0.001)\n",
        "\n",
        "#epochs = already declare\n",
        "for epoch in range(epochs):\n",
        "    student.train()\n",
        "    running_loss = 0.0\n",
        "    for inputs, labels in train_loader:\n",
        "        optimizer_s.zero_grad()\n",
        "\n",
        "        # Teacher predictions (fixed, no gradients)\n",
        "        with torch.no_grad():\n",
        "            teacher_outputs = teacher(inputs)\n",
        "\n",
        "        # Student predictions\n",
        "        student_outputs = student(inputs)\n",
        "\n",
        "        # Distillation loss\n",
        "        loss = distillation_loss(student_outputs, teacher_outputs, labels, T=2.0, alpha=0.5)\n",
        "\n",
        "        loss.backward()\n",
        "        optimizer_s.step()\n",
        "        running_loss += loss.item()\n",
        "\n",
        "    if (epoch+1) % 5 == 0:\n",
        "        print(f\"Epoch [{epoch+1}/{epochs}], KD Loss: {running_loss / len(train_loader):.4f}\")\n"
      ],
      "metadata": {
        "id": "LewMrFNahwTN"
      },
      "execution_count": null,
      "outputs": []
    },
    {
      "cell_type": "markdown",
      "source": [
        "# Creating & Training 'Person' Model with regular training"
      ],
      "metadata": {
        "id": "yiM2jdrHh0lV"
      }
    },
    {
      "cell_type": "code",
      "source": [
        "class mnistPerson(nn.Module):\n",
        "  def __init__(self):\n",
        "    super(mnistPerson,self).__init__()\n",
        "    self.fc1=nn.Linear(784,128)\n",
        "    self.fc2=nn.Linear(128,64)\n",
        "    self.fc3=nn.Linear(64,10)\n",
        "\n",
        "  def forward(self,x):\n",
        "    x=F.relu(self.fc1(x))\n",
        "    x=F.relu(self.fc2(x))\n",
        "    x=self.fc3(x)\n",
        "    return x\n",
        "\n",
        "person = mnistPerson()\n",
        "\n",
        "# Loss and optimizer\n",
        "criterion = nn.CrossEntropyLoss()\n",
        "optimizer = optim.Adam(person.parameters(), lr=0.001)\n",
        "\n",
        "\n",
        "\n",
        "# Training loop\n",
        "for epoch in range(epochs):\n",
        "    person.train()\n",
        "    running_loss = 0.0\n",
        "    for inputs, labels in train_loader:\n",
        "        optimizer.zero_grad()             # reset gradients\n",
        "        outputs = person(inputs)          # forward pass\n",
        "        loss = criterion(outputs, labels) # compute loss\n",
        "        loss.backward()                   # backpropagation\n",
        "        optimizer.step()                  # update weights\n",
        "        running_loss += loss.item()\n",
        "\n",
        "    # print every 5 epochs\n",
        "    if (epoch+1) % 5 == 0:\n",
        "        print(f\"Epoch [{epoch+1}/{epochs}], Loss: {running_loss / len(train_loader):.4f}\")\n"
      ],
      "metadata": {
        "id": "Oza_ycqZh44i"
      },
      "execution_count": null,
      "outputs": []
    },
    {
      "cell_type": "markdown",
      "source": [
        "# Creating Test functions"
      ],
      "metadata": {
        "id": "c7b4kRYjh8CA"
      }
    },
    {
      "cell_type": "code",
      "source": [
        "import time\n",
        "\n",
        "# 1. Accuracy function\n",
        "def evaluate_accuracy(model, xTest, yTest):\n",
        "    model.eval()\n",
        "    with torch.no_grad():\n",
        "        y_pred = model(xTest)\n",
        "        predicted_classes = torch.argmax(y_pred, dim=1)\n",
        "        accuracy = (predicted_classes == yTest).float().mean().item()\n",
        "    return accuracy\n",
        "\n",
        "import time\n",
        "#2.Time Function\n",
        "def evaluate_inference_time_stable(model, xTest, repeats=10):\n",
        "    model.eval()\n",
        "    # warm-up\n",
        "    with torch.no_grad():\n",
        "        _ = model(xTest)\n",
        "\n",
        "    times = []\n",
        "    with torch.no_grad():\n",
        "        for _ in range(repeats):\n",
        "            start = time.time()\n",
        "            _ = model(xTest)\n",
        "            end = time.time()\n",
        "            times.append(end - start)\n",
        "    total_time = sum(times) / repeats\n",
        "    avg_time = total_time / xTest.size(0)\n",
        "    return total_time, avg_time\n",
        "\n",
        "\n",
        "# 3. Model size function\n",
        "def evaluate_model_size(model):\n",
        "    num_params = sum(p.numel() for p in model.parameters() if p.requires_grad)\n",
        "    param_size_MB = num_params * 4 / (1024**2)  # 4 bytes per float32\n",
        "    return num_params, param_size_MB"
      ],
      "metadata": {
        "id": "esaBbMkLiAgO"
      },
      "execution_count": null,
      "outputs": []
    },
    {
      "cell_type": "markdown",
      "source": [
        "#Results Individual"
      ],
      "metadata": {
        "id": "tj0Yw237iDO6"
      }
    },
    {
      "cell_type": "code",
      "source": [
        "# Teacher\n",
        "teacher_acc = evaluate_accuracy(teacher, xTest, yTest)\n",
        "teacher_time, teacher_avg_time = evaluate_inference_time_stable(teacher, xTest)\n",
        "teacher_params, teacher_size = evaluate_model_size(teacher)\n",
        "\n",
        "print(f\"Teacher Accuracy: {teacher_acc:.4f}\")\n",
        "print(f\"Teacher Inference Time: {teacher_time:.6f}s ({teacher_avg_time:.6f}s per sample)\")\n",
        "print(f\"Teacher Params: {teacher_params}, Size: {teacher_size:.6f} MB\")\n",
        "\n",
        "# Student\n",
        "student_acc = evaluate_accuracy(student, xTest, yTest)\n",
        "student_time, student_avg_time = evaluate_inference_time_stable(student, xTest)\n",
        "student_params, student_size = evaluate_model_size(student)\n",
        "\n",
        "print(f\"Student Accuracy: {student_acc:.4f}\")\n",
        "print(f\"Student Inference Time: {student_time:.6f}s ({student_avg_time:.6f}s per sample)\")\n",
        "print(f\"Student Params: {student_params}, Size: {student_size:.6f} MB\")\n",
        "\n",
        "# Person metrics\n",
        "person_acc = evaluate_accuracy(person, xTest, yTest)\n",
        "person_time, person_avg_time = evaluate_inference_time_stable(person, xTest)\n",
        "person_params, person_size = evaluate_model_size(person)\n",
        "\n",
        "print(f\"Person Accuracy: {person_acc:.4f}\")\n",
        "print(f\"Person Inference Time: {person_time:.6f}s ({person_avg_time:.6f}s per sample)\")\n",
        "print(f\"Person Params: {person_params}, Size: {person_size:.6f} MB\")\n",
        "\n"
      ],
      "metadata": {
        "id": "1I5UcW8HiKCv"
      },
      "execution_count": null,
      "outputs": []
    },
    {
      "cell_type": "markdown",
      "source": [
        "#Result Comparism"
      ],
      "metadata": {
        "id": "TAtv1IqCiLdv"
      }
    },
    {
      "cell_type": "code",
      "execution_count": null,
      "metadata": {
        "id": "rr5pC7ZyvkBw",
        "outputId": "ac99dd1e-dc85-4eaa-d418-40a22dc046e5",
        "colab": {
          "base_uri": "https://localhost:8080/"
        }
      },
      "outputs": [
        {
          "output_type": "stream",
          "name": "stdout",
          "text": [
            "Requirement already satisfied: numpy in /usr/local/lib/python3.12/dist-packages (2.0.2)\n",
            "Requirement already satisfied: pandas in /usr/local/lib/python3.12/dist-packages (2.2.2)\n",
            "Requirement already satisfied: scikit-learn in /usr/local/lib/python3.12/dist-packages (1.6.1)\n",
            "Requirement already satisfied: torch in /usr/local/lib/python3.12/dist-packages (2.8.0+cu126)\n",
            "Requirement already satisfied: torchvision in /usr/local/lib/python3.12/dist-packages (0.23.0+cu126)\n",
            "Requirement already satisfied: python-dateutil>=2.8.2 in /usr/local/lib/python3.12/dist-packages (from pandas) (2.9.0.post0)\n",
            "Requirement already satisfied: pytz>=2020.1 in /usr/local/lib/python3.12/dist-packages (from pandas) (2025.2)\n",
            "Requirement already satisfied: tzdata>=2022.7 in /usr/local/lib/python3.12/dist-packages (from pandas) (2025.2)\n",
            "Requirement already satisfied: scipy>=1.6.0 in /usr/local/lib/python3.12/dist-packages (from scikit-learn) (1.16.2)\n",
            "Requirement already satisfied: joblib>=1.2.0 in /usr/local/lib/python3.12/dist-packages (from scikit-learn) (1.5.2)\n",
            "Requirement already satisfied: threadpoolctl>=3.1.0 in /usr/local/lib/python3.12/dist-packages (from scikit-learn) (3.6.0)\n",
            "Requirement already satisfied: filelock in /usr/local/lib/python3.12/dist-packages (from torch) (3.19.1)\n",
            "Requirement already satisfied: typing-extensions>=4.10.0 in /usr/local/lib/python3.12/dist-packages (from torch) (4.15.0)\n",
            "Requirement already satisfied: setuptools in /usr/local/lib/python3.12/dist-packages (from torch) (75.2.0)\n",
            "Requirement already satisfied: sympy>=1.13.3 in /usr/local/lib/python3.12/dist-packages (from torch) (1.13.3)\n",
            "Requirement already satisfied: networkx in /usr/local/lib/python3.12/dist-packages (from torch) (3.5)\n",
            "Requirement already satisfied: jinja2 in /usr/local/lib/python3.12/dist-packages (from torch) (3.1.6)\n",
            "Requirement already satisfied: fsspec in /usr/local/lib/python3.12/dist-packages (from torch) (2025.3.0)\n",
            "Requirement already satisfied: nvidia-cuda-nvrtc-cu12==12.6.77 in /usr/local/lib/python3.12/dist-packages (from torch) (12.6.77)\n",
            "Requirement already satisfied: nvidia-cuda-runtime-cu12==12.6.77 in /usr/local/lib/python3.12/dist-packages (from torch) (12.6.77)\n",
            "Requirement already satisfied: nvidia-cuda-cupti-cu12==12.6.80 in /usr/local/lib/python3.12/dist-packages (from torch) (12.6.80)\n",
            "Requirement already satisfied: nvidia-cudnn-cu12==9.10.2.21 in /usr/local/lib/python3.12/dist-packages (from torch) (9.10.2.21)\n",
            "Requirement already satisfied: nvidia-cublas-cu12==12.6.4.1 in /usr/local/lib/python3.12/dist-packages (from torch) (12.6.4.1)\n",
            "Requirement already satisfied: nvidia-cufft-cu12==11.3.0.4 in /usr/local/lib/python3.12/dist-packages (from torch) (11.3.0.4)\n",
            "Requirement already satisfied: nvidia-curand-cu12==10.3.7.77 in /usr/local/lib/python3.12/dist-packages (from torch) (10.3.7.77)\n",
            "Requirement already satisfied: nvidia-cusolver-cu12==11.7.1.2 in /usr/local/lib/python3.12/dist-packages (from torch) (11.7.1.2)\n",
            "Requirement already satisfied: nvidia-cusparse-cu12==12.5.4.2 in /usr/local/lib/python3.12/dist-packages (from torch) (12.5.4.2)\n",
            "Requirement already satisfied: nvidia-cusparselt-cu12==0.7.1 in /usr/local/lib/python3.12/dist-packages (from torch) (0.7.1)\n",
            "Requirement already satisfied: nvidia-nccl-cu12==2.27.3 in /usr/local/lib/python3.12/dist-packages (from torch) (2.27.3)\n",
            "Requirement already satisfied: nvidia-nvtx-cu12==12.6.77 in /usr/local/lib/python3.12/dist-packages (from torch) (12.6.77)\n",
            "Requirement already satisfied: nvidia-nvjitlink-cu12==12.6.85 in /usr/local/lib/python3.12/dist-packages (from torch) (12.6.85)\n",
            "Requirement already satisfied: nvidia-cufile-cu12==1.11.1.6 in /usr/local/lib/python3.12/dist-packages (from torch) (1.11.1.6)\n",
            "Requirement already satisfied: triton==3.4.0 in /usr/local/lib/python3.12/dist-packages (from torch) (3.4.0)\n",
            "Requirement already satisfied: pillow!=8.3.*,>=5.3.0 in /usr/local/lib/python3.12/dist-packages (from torchvision) (11.3.0)\n",
            "Requirement already satisfied: six>=1.5 in /usr/local/lib/python3.12/dist-packages (from python-dateutil>=2.8.2->pandas) (1.17.0)\n",
            "Requirement already satisfied: mpmath<1.4,>=1.1.0 in /usr/local/lib/python3.12/dist-packages (from sympy>=1.13.3->torch) (1.3.0)\n",
            "Requirement already satisfied: MarkupSafe>=2.0 in /usr/local/lib/python3.12/dist-packages (from jinja2->torch) (3.0.2)\n"
          ]
        },
        {
          "output_type": "stream",
          "name": "stderr",
          "text": [
            "100%|██████████| 9.91M/9.91M [00:00<00:00, 42.9MB/s]\n",
            "100%|██████████| 28.9k/28.9k [00:00<00:00, 1.09MB/s]\n",
            "100%|██████████| 1.65M/1.65M [00:00<00:00, 9.93MB/s]\n",
            "100%|██████████| 4.54k/4.54k [00:00<00:00, 9.72MB/s]\n"
          ]
        },
        {
          "output_type": "stream",
          "name": "stdout",
          "text": [
            "Epoch [5/20], Loss: 0.0434\n",
            "Epoch [10/20], Loss: 0.0207\n",
            "Epoch [15/20], Loss: 0.0103\n",
            "Epoch [20/20], Loss: 0.0080\n",
            "Epoch [5/20], KD Loss: 0.2123\n",
            "Epoch [10/20], KD Loss: 0.1007\n",
            "Epoch [15/20], KD Loss: 0.0597\n",
            "Epoch [20/20], KD Loss: 0.0391\n",
            "Teacher Accuracy: 0.9807\n",
            "Teacher Inference Time: 0.497231s (0.000050s per sample)\n",
            "Teacher Params: 1501770, Size: 5.728798 MB\n",
            "Student Accuracy: 0.9786\n",
            "Student Inference Time: 0.041835s (0.000004s per sample)\n",
            "Student Params: 109386, Size: 0.417274 MB\n",
            "\n",
            "--- Percentage Change (Student vs Teacher) ---\n",
            "Accuracy Change: -0.21%\n",
            "Total Inference Time Change: -91.59%\n",
            "Avg Inference Time per Sample Change: -91.59%\n",
            "Params Change: -92.72%\n",
            "Model Size Change: -92.72%\n",
            "Epoch [5/20], Loss: 0.0773\n",
            "Epoch [10/20], Loss: 0.0288\n",
            "Epoch [15/20], Loss: 0.0133\n",
            "Epoch [20/20], Loss: 0.0110\n",
            "Person Accuracy: 0.9783\n",
            "Person Inference Time: 0.044387s (0.000004s per sample)\n",
            "Person Params: 109386, Size: 0.417274 MB\n",
            "\n",
            "--- Percentage Change(Person vs Teacher) ---\n",
            "Accuracy Change: -0.24%\n",
            "Total Inference Time Change: -91.07%\n",
            "Avg Inference Time per Sample Change: -91.07%\n",
            "Params Change: -92.72%\n",
            "Model Size Change: -92.72%\n",
            "Person & Student agains the Teacher\n",
            "\n",
            "Accuracy against Teacher\n",
            "\n",
            "Student: -0.21%\n",
            "Person: -0.24%\n",
            "\n",
            "Inference Time against Teacher\n",
            "\n",
            "Student time: -91.59%\n",
            "Student avg: -91.59%\n",
            "Perso time: -91.07%\n",
            "Person avg: -91.07%\n",
            "\n",
            "Model Size against Teacher\n",
            "\n",
            "Model Size Change: -92.72%\n",
            "Model Size Change: -92.72%\n"
          ]
        }
      ],
      "source": [
        "def percent_change(val1, val2):\n",
        "    return ((val1 - val2) / val2) * 100 if val2 != 0 else float('inf')\n",
        "\n",
        "print(\"--- Results Comparison ---\")\n",
        "\n",
        "# Student vs Teacher\n",
        "acc_change_s_t = percent_change(student_acc, teacher_acc)\n",
        "time_change_s_t = percent_change(student_time, teacher_time)\n",
        "avg_time_change_s_t = percent_change(student_avg_time, teacher_avg_time)\n",
        "params_change_s_t = percent_change(student_params, teacher_params)\n",
        "size_change_s_t = percent_change(student_size, teacher_size)\n",
        "\n",
        "print(\"\\n--- Student vs Teacher ---\")\n",
        "print(f\"Accuracy Change: {acc_change_s_t:.2f}%\")\n",
        "print(f\"Total Inference Time Change: {time_change_s_t:.2f}%\")\n",
        "print(f\"Avg Inference Time per Sample Change: {avg_time_change_s_t:.2f}%\")\n",
        "print(f\"Params Change: {params_change_s_t:.2f}%\")\n",
        "print(f\"Model Size Change: {size_change_s_t:.2f}%\")\n",
        "\n",
        "# Person vs Teacher\n",
        "acc_change_p_t = percent_change(person_acc, teacher_acc)\n",
        "time_change_p_t = percent_change(person_time, teacher_time)\n",
        "avg_time_change_p_t = percent_change(person_avg_time, teacher_avg_time)\n",
        "params_change_p_t = percent_change(person_params, teacher_params)\n",
        "size_change_p_t = percent_change(person_size, teacher_size)\n",
        "\n",
        "print(\"\\n--- Person vs Teacher ---\")\n",
        "print(f\"Accuracy Change: {acc_change_p_t:.2f}%\")\n",
        "print(f\"Total Inference Time Change: {time_change_p_t:.2f}%\")\n",
        "print(f\"Avg Inference Time per Sample Change: {avg_time_change_p_t:.2f}%\")\n",
        "print(f\"Params Change: {params_change_p_t:.2f}%\")\n",
        "print(f\"Model Size Change: {size_change_p_t:.2f}%\")\n",
        "\n",
        "# Student vs Person\n",
        "acc_change_s_p = percent_change(student_acc, person_acc)\n",
        "time_change_s_p = percent_change(student_time, person_time)\n",
        "avg_time_change_s_p = percent_change(student_avg_time, person_avg_time)\n",
        "params_change_s_p = percent_change(student_params, person_params)\n",
        "size_change_s_p = percent_change(student_size, person_size)\n",
        "\n",
        "print(\"\\n--- Student vs Person ---\")\n",
        "print(f\"Accuracy Change: {acc_change_s_p:.2f}%\")\n",
        "print(f\"Total Inference Time Change: {time_change_s_p:.2f}%\")\n",
        "print(f\"Avg Inference Time per Sample Change: {avg_time_change_s_p:.2f}%\")\n",
        "print(f\"Params Change: {params_change_s_p:.2f}%\")\n",
        "print(f\"Model Size Change: {size_change_s_p:.2f}%\")"
      ]
    }
  ]
}